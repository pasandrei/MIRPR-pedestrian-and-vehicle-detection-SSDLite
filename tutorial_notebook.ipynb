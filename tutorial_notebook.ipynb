{
 "cells": [
  {
   "cell_type": "code",
   "execution_count": 1,
   "metadata": {},
   "outputs": [
    {
     "data": {
      "text/plain": [
       "'\\nExample usage of functionalities\\n'"
      ]
     },
     "execution_count": 1,
     "metadata": {},
     "output_type": "execute_result"
    }
   ],
   "source": [
    "\"\"\"\n",
    "Example usage of functionalities\n",
    "\"\"\""
   ]
  },
  {
   "cell_type": "code",
   "execution_count": 4,
   "metadata": {},
   "outputs": [
    {
     "data": {
      "text/plain": [
       "'\\nStarting point is main.run() function\\n\\n    Arguments:\\n    train_model - train model\\n    load_checkpoint - load a pretrained model\\n    validate - run evaluation\\n    cross_validate - cross validate for best nms thresold and positive confidence\\n    mixed_precision - use mixed_precision training\\n\\n'"
      ]
     },
     "execution_count": 4,
     "metadata": {},
     "output_type": "execute_result"
    }
   ],
   "source": [
    "\"\"\"\n",
    "Starting point is main.run() function\n",
    "\n",
    "    Arguments:\n",
    "    train_model - train model\n",
    "    load_checkpoint - load a pretrained model\n",
    "    validate - run evaluation\n",
    "    cross_validate - cross validate for best nms thresold and positive confidence\n",
    "    mixed_precision - use mixed_precision training\n",
    "\n",
    "\"\"\""
   ]
  },
  {
   "cell_type": "code",
   "execution_count": 5,
   "metadata": {},
   "outputs": [],
   "source": [
    "# train from scratch\n",
    "import main\n",
    "main.run(train_model=True, load_checkpoint=False, cross_validate=False,\n",
    "        validate=False, jaad=False, mixed_precision=False)"
   ]
  },
  {
   "cell_type": "code",
   "execution_count": 6,
   "metadata": {},
   "outputs": [],
   "source": [
    "# train from checkpoint\n",
    "import main\n",
    "main.run(train_model=True, load_checkpoint=True, cross_validate=False,\n",
    "        validate=False, jaad=False, mixed_precision=False)"
   ]
  },
  {
   "cell_type": "code",
   "execution_count": 7,
   "metadata": {},
   "outputs": [],
   "source": [
    "# validate\n",
    "import main\n",
    "main.run(train_model=False, load_checkpoint=True, cross_validate=False,\n",
    "        validate=True, jaad=False, mixed_precision=False)"
   ]
  },
  {
   "cell_type": "code",
   "execution_count": 8,
   "metadata": {},
   "outputs": [],
   "source": [
    "# cross validate\n",
    "import main\n",
    "main.run(train_model=False, load_checkpoint=True, cross_validate=True,\n",
    "        validate=False, jaad=False, mixed_precision=False)"
   ]
  },
  {
   "cell_type": "code",
   "execution_count": 1,
   "metadata": {},
   "outputs": [
    {
     "name": "stdout",
     "output_type": "stream",
     "text": [
      "C:\\Users\\Dorel\\Documents\\COCO\n",
      "True\n",
      "Weigths loaded successfully\n",
      "Source directory:  C:\\Users\\Dorel\\Documents\\GitHub\\MIRPR-pedestrian-and-vehicle-detection-SSDLite\\custom_inference\\samples\n",
      "Source directory:  C:\\Users\\Dorel\\Documents\\GitHub\\MIRPR-pedestrian-and-vehicle-detection-SSDLite\\custom_inference\\video_sample\\video.mp4\n",
      "Video FPS:  30.0\n"
     ]
    }
   ],
   "source": [
    "\"\"\"\n",
    "Running custom inference\n",
    "\"\"\"\n",
    "from custom_inference import run\n",
    "inferer = run.Custom_Infernce()\n",
    "\n",
    "# run inference on image(s) placed in custom_inference/samples\n",
    "inferer.run_image()\n",
    "\n",
    "# run inference on video placed in custom_inference/video_sample\n",
    "inferer.run_video()"
   ]
  },
  {
   "cell_type": "code",
   "execution_count": 4,
   "metadata": {},
   "outputs": [
    {
     "name": "stdout",
     "output_type": "stream",
     "text": [
      "Weigths loaded successfully\n",
      "loading annotations into memory...\n",
      "Done (t=0.93s)\n",
      "creating index...\n",
      "index created!\n",
      "Current custom settings:  (0.5, 0.15, 'cuda:0')\n",
      "Done  100  runs\n",
      "\n",
      "\n",
      "\n",
      "\n",
      "Total time of model:  3.1691508293151855\n",
      "Mean time model:  0.03169150829315186\n",
      "Total time of pre nms:  0.10195088386535645\n",
      "Mean time pre nms:  0.0010195088386535645\n",
      "Total time of nms:  0.3348081111907959\n",
      "Mean time nms:  0.003348081111907959\n",
      "Mean number of boxes processed by nms:  23.70\n",
      "\n",
      "\n",
      "\n",
      "\n",
      "Total time taken:  3.605909824371338\n",
      "Percentage of model:  87.89\n",
      "Percentage of pre nms:  2.83\n",
      "Percentage of nms:  9.28\n",
      "---------------------------------\n",
      "Current custom settings:  (0.5, 0.15, 'cpu')\n",
      "Done  100  runs\n",
      "\n",
      "\n",
      "\n",
      "\n",
      "Total time of model:  8.41919994354248\n",
      "Mean time model:  0.08419199943542481\n",
      "Total time of pre nms:  0.07995748519897461\n",
      "Mean time pre nms:  0.0007995748519897461\n",
      "Total time of nms:  0.3307921886444092\n",
      "Mean time nms:  0.003307921886444092\n",
      "Mean number of boxes processed by nms:  23.70\n",
      "\n",
      "\n",
      "\n",
      "\n",
      "Total time taken:  8.829949617385864\n",
      "Percentage of model:  95.35\n",
      "Percentage of pre nms:  0.91\n",
      "Percentage of nms:  3.75\n"
     ]
    }
   ],
   "source": [
    "\"\"\"\n",
    "Running a speed test\n",
    "\"\"\"\n",
    "from custom_inference import speed_test\n",
    "\n",
    "# runs on the first 100 images of the COCO validation set\n",
    "speed = speed_test.Speed_testing(runs=100, print_each_run=False)\n",
    "\n",
    "# nms threshold, conf_threshold, device\n",
    "speed.speed_test((0.5, 0.15, \"cuda:0\"))\n",
    "print(\"---------------------------------\")\n",
    "speed.speed_test((0.5, 0.15, \"cpu\"))"
   ]
  },
  {
   "cell_type": "code",
   "execution_count": null,
   "metadata": {},
   "outputs": [],
   "source": []
  }
 ],
 "metadata": {
  "kernelspec": {
   "display_name": "Python 3",
   "language": "python",
   "name": "python3"
  },
  "language_info": {
   "codemirror_mode": {
    "name": "ipython",
    "version": 3
   },
   "file_extension": ".py",
   "mimetype": "text/x-python",
   "name": "python",
   "nbconvert_exporter": "python",
   "pygments_lexer": "ipython3",
   "version": "3.7.6"
  }
 },
 "nbformat": 4,
 "nbformat_minor": 4
}
