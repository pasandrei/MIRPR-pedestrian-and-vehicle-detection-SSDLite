{
 "cells": [
  {
   "cell_type": "code",
   "execution_count": 34,
   "metadata": {},
   "outputs": [
    {
     "name": "stdout",
     "output_type": "stream",
     "text": [
      "The autoreload extension is already loaded. To reload it, use:\n",
      "  %reload_ext autoreload\n"
     ]
    }
   ],
   "source": [
    "%load_ext autoreload\n",
    "%autoreload 2\n",
    "\n",
    "import torch"
   ]
  },
  {
   "cell_type": "code",
   "execution_count": 35,
   "metadata": {},
   "outputs": [
    {
     "name": "stdout",
     "output_type": "stream",
     "text": [
      "Created SSDNet model succesfully!\n",
      "Number of epochs: 10\n",
      "Total number of parameters of model:  3052988\n",
      "Model loaded successfully\n",
      "loading annotations into memory...\n",
      "Done (t=2.58s)\n",
      "creating index...\n",
      "index created!\n"
     ]
    },
    {
     "ename": "AttributeError",
     "evalue": "'list' object has no attribute 'squeeze'",
     "output_type": "error",
     "traceback": [
      "\u001b[1;31m---------------------------------------------------------------------------\u001b[0m",
      "\u001b[1;31mAttributeError\u001b[0m                            Traceback (most recent call last)",
      "\u001b[1;32m<ipython-input-35-640926a632ad>\u001b[0m in \u001b[0;36m<module>\u001b[1;34m\u001b[0m\n\u001b[0;32m      1\u001b[0m \u001b[1;32mimport\u001b[0m \u001b[0mmain\u001b[0m\u001b[1;33m\u001b[0m\u001b[1;33m\u001b[0m\u001b[0m\n\u001b[1;32m----> 2\u001b[1;33m \u001b[0mmain\u001b[0m\u001b[1;33m.\u001b[0m\u001b[0mrun\u001b[0m\u001b[1;33m(\u001b[0m\u001b[1;34m'misc/experiments/ssdnet/params.json'\u001b[0m\u001b[1;33m)\u001b[0m\u001b[1;33m\u001b[0m\u001b[1;33m\u001b[0m\u001b[0m\n\u001b[0m",
      "\u001b[1;32mD:\\Popovici_Galea_Faraoanu\\drl_zice_ca_se_poate_schimba_DA_MA\\main.py\u001b[0m in \u001b[0;36mrun\u001b[1;34m(path, resume, visualize)\u001b[0m\n\u001b[0;32m     40\u001b[0m     \u001b[0mtrain_loader\u001b[0m\u001b[1;33m,\u001b[0m \u001b[0mvalid_loader\u001b[0m \u001b[1;33m=\u001b[0m \u001b[0mdataloaders\u001b[0m\u001b[1;33m.\u001b[0m\u001b[0mget_dataloaders\u001b[0m\u001b[1;33m(\u001b[0m\u001b[0mparams\u001b[0m\u001b[1;33m)\u001b[0m\u001b[1;33m\u001b[0m\u001b[1;33m\u001b[0m\u001b[0m\n\u001b[0;32m     41\u001b[0m     \u001b[1;32mif\u001b[0m \u001b[0mvisualize\u001b[0m\u001b[1;33m:\u001b[0m\u001b[1;33m\u001b[0m\u001b[1;33m\u001b[0m\u001b[0m\n\u001b[1;32m---> 42\u001b[1;33m         \u001b[0mvisualize_data\u001b[0m\u001b[1;33m(\u001b[0m\u001b[0mvalid_loader\u001b[0m\u001b[1;33m,\u001b[0m \u001b[0mmodel\u001b[0m\u001b[1;33m)\u001b[0m\u001b[1;33m\u001b[0m\u001b[1;33m\u001b[0m\u001b[0m\n\u001b[0m\u001b[0;32m     43\u001b[0m     \u001b[1;32melse\u001b[0m\u001b[1;33m:\u001b[0m\u001b[1;33m\u001b[0m\u001b[1;33m\u001b[0m\u001b[0m\n\u001b[0;32m     44\u001b[0m         \u001b[0mtrain\u001b[0m\u001b[1;33m.\u001b[0m\u001b[0mtrain\u001b[0m\u001b[1;33m(\u001b[0m\u001b[0mmodel\u001b[0m\u001b[1;33m,\u001b[0m \u001b[0moptimizer\u001b[0m\u001b[1;33m,\u001b[0m \u001b[0mtrain_loader\u001b[0m\u001b[1;33m,\u001b[0m \u001b[0mvalid_loader\u001b[0m\u001b[1;33m,\u001b[0m \u001b[0mdevice\u001b[0m\u001b[1;33m,\u001b[0m \u001b[0mparams\u001b[0m\u001b[1;33m,\u001b[0m \u001b[0mstart_epoch\u001b[0m\u001b[1;33m)\u001b[0m\u001b[1;33m\u001b[0m\u001b[1;33m\u001b[0m\u001b[0m\n",
      "\u001b[1;32mD:\\Popovici_Galea_Faraoanu\\drl_zice_ca_se_poate_schimba_DA_MA\\train\\helpers.py\u001b[0m in \u001b[0;36mvisualize_data\u001b[1;34m(dataloader, model)\u001b[0m\n\u001b[0;32m    143\u001b[0m \u001b[1;33m\u001b[0m\u001b[0m\n\u001b[0;32m    144\u001b[0m     \u001b[1;31m# have to keep track of initial size to have the corect rescaling factor for bbox coords\u001b[0m\u001b[1;33m\u001b[0m\u001b[1;33m\u001b[0m\u001b[1;33m\u001b[0m\u001b[0m\n\u001b[1;32m--> 145\u001b[1;33m     \u001b[0mbboxes\u001b[0m\u001b[1;33m,\u001b[0m \u001b[0mclasses\u001b[0m \u001b[1;33m=\u001b[0m \u001b[1;33m(\u001b[0m\u001b[0my\u001b[0m\u001b[1;33m[\u001b[0m\u001b[1;36m0\u001b[0m\u001b[1;33m]\u001b[0m\u001b[1;33m.\u001b[0m\u001b[0msqueeze\u001b[0m\u001b[1;33m(\u001b[0m\u001b[1;33m)\u001b[0m\u001b[1;33m.\u001b[0m\u001b[0mnumpy\u001b[0m\u001b[1;33m(\u001b[0m\u001b[1;33m)\u001b[0m \u001b[1;33m*\u001b[0m \u001b[1;36m320\u001b[0m\u001b[1;33m)\u001b[0m\u001b[1;33m.\u001b[0m\u001b[0mastype\u001b[0m\u001b[1;33m(\u001b[0m\u001b[0mint\u001b[0m\u001b[1;33m)\u001b[0m\u001b[1;33m,\u001b[0m \u001b[0my\u001b[0m\u001b[1;33m[\u001b[0m\u001b[1;36m1\u001b[0m\u001b[1;33m]\u001b[0m\u001b[1;33m.\u001b[0m\u001b[0msqueeze\u001b[0m\u001b[1;33m(\u001b[0m\u001b[1;33m)\u001b[0m\u001b[1;33m.\u001b[0m\u001b[0mnumpy\u001b[0m\u001b[1;33m(\u001b[0m\u001b[1;33m)\u001b[0m\u001b[1;33m\u001b[0m\u001b[1;33m\u001b[0m\u001b[0m\n\u001b[0m\u001b[0;32m    146\u001b[0m     \u001b[0mimage\u001b[0m \u001b[1;33m=\u001b[0m \u001b[1;33m(\u001b[0m\u001b[0mx\u001b[0m\u001b[1;33m.\u001b[0m\u001b[0msqueeze\u001b[0m\u001b[1;33m(\u001b[0m\u001b[1;33m)\u001b[0m\u001b[1;33m.\u001b[0m\u001b[0mnumpy\u001b[0m\u001b[1;33m(\u001b[0m\u001b[1;33m)\u001b[0m \u001b[1;33m*\u001b[0m \u001b[1;36m255\u001b[0m\u001b[1;33m)\u001b[0m\u001b[1;33m.\u001b[0m\u001b[0mastype\u001b[0m\u001b[1;33m(\u001b[0m\u001b[0mint\u001b[0m\u001b[1;33m)\u001b[0m\u001b[1;33m\u001b[0m\u001b[1;33m\u001b[0m\u001b[0m\n\u001b[0;32m    147\u001b[0m     \u001b[0mimage\u001b[0m \u001b[1;33m=\u001b[0m \u001b[0mimage\u001b[0m\u001b[1;33m.\u001b[0m\u001b[0mtranspose\u001b[0m\u001b[1;33m(\u001b[0m\u001b[1;33m(\u001b[0m\u001b[1;36m1\u001b[0m\u001b[1;33m,\u001b[0m \u001b[1;36m2\u001b[0m\u001b[1;33m,\u001b[0m \u001b[1;36m0\u001b[0m\u001b[1;33m)\u001b[0m\u001b[1;33m)\u001b[0m\u001b[1;33m\u001b[0m\u001b[1;33m\u001b[0m\u001b[0m\n",
      "\u001b[1;31mAttributeError\u001b[0m: 'list' object has no attribute 'squeeze'"
     ]
    }
   ],
   "source": [
    "import main\n",
    "main.run('misc/experiments/ssdnet/params.json')"
   ]
  },
  {
   "cell_type": "code",
   "execution_count": 3,
   "metadata": {},
   "outputs": [
    {
     "name": "stdout",
     "output_type": "stream",
     "text": [
      "Created SSDNet model succesfully!\n",
      "Number of epochs: 10\n",
      "Total number of parameters of model:  4428176\n"
     ]
    }
   ],
   "source": [
    "import main\n",
    "main.run('misc/experiments/ssdnet/params.json')"
   ]
  },
  {
   "cell_type": "code",
   "execution_count": null,
   "metadata": {},
   "outputs": [],
   "source": [
    "from architectures.backbones import MobileNet"
   ]
  },
  {
   "cell_type": "code",
   "execution_count": null,
   "metadata": {},
   "outputs": [],
   "source": [
    "model = MobileNet.mobilenet_v2(pretrained=True)"
   ]
  },
  {
   "cell_type": "code",
   "execution_count": null,
   "metadata": {},
   "outputs": [],
   "source": [
    "a = torch.rand(1,3,512,512)\n",
    "\n",
    "# default os=32, expect 512//32 with 1280 channels output\n",
    "b = model(a)\n",
    "print(b.shape)"
   ]
  },
  {
   "cell_type": "code",
   "execution_count": null,
   "metadata": {},
   "outputs": [],
   "source": [
    "total_params = sum(p.numel() for p in model.parameters())\n",
    "print(total_params)"
   ]
  },
  {
   "cell_type": "code",
   "execution_count": null,
   "metadata": {},
   "outputs": [],
   "source": [
    "model_half_width = MobileNet.mobilenet_v2(width_mult=0.5)\n",
    "total_params = sum(p.numel() for p in model_half_width.parameters())\n",
    "print(total_params)"
   ]
  },
  {
   "cell_type": "code",
   "execution_count": null,
   "metadata": {},
   "outputs": [],
   "source": [
    "from train.helpers import *\n",
    "\n",
    "anchors, grid_sz = create_anchors()\n",
    "anchor_cnr = hw2corners(anchors[:,:2], anchors[:,2:])\n",
    "print(anchor_cnr, anchor_cnr.shape)"
   ]
  },
  {
   "cell_type": "code",
   "execution_count": null,
   "metadata": {},
   "outputs": [],
   "source": [
    "overlaps = jaccard(anchor_cnr[:3,:], anchor_cnr)"
   ]
  },
  {
   "cell_type": "code",
   "execution_count": null,
   "metadata": {},
   "outputs": [],
   "source": [
    "print(overlaps)"
   ]
  },
  {
   "cell_type": "code",
   "execution_count": null,
   "metadata": {},
   "outputs": [],
   "source": [
    "print(overlaps.max(0))\n",
    "print(overlaps.max(1))"
   ]
  },
  {
   "cell_type": "code",
   "execution_count": null,
   "metadata": {},
   "outputs": [],
   "source": [
    "import torch\n",
    "from data.dataloaders import get_dataloaders\n",
    "valid_dataloader = get_dataloaders()\n",
    "x, y = next(iter(valid_dataloader))\n",
    "\n",
    "def prepare_gt(y):\n",
    "    gt_bbox, gt_clas = [], []\n",
    "    for obj in y:\n",
    "        gt_bbox.append(obj['bbox'])\n",
    "        gt_clas.append(obj['category_id'])\n",
    "    return [torch.FloatTensor(gt_bbox), torch.IntTensor(gt_clas)]\n",
    "gt = prepare_gt(y)\n",
    "overlaps = jaccard(gt[0]/400, anchor_cnr)"
   ]
  },
  {
   "cell_type": "code",
   "execution_count": null,
   "metadata": {},
   "outputs": [],
   "source": [
    "print(gt[0]/400, gt[0].shape) \n",
    "print(anchor_cnr, anchor_cnr.shape)"
   ]
  },
  {
   "cell_type": "code",
   "execution_count": null,
   "metadata": {},
   "outputs": [],
   "source": [
    "print(overlaps, overlaps.shape)"
   ]
  },
  {
   "cell_type": "code",
   "execution_count": null,
   "metadata": {},
   "outputs": [],
   "source": [
    "gt[0] = gt[0][:10,:]\n",
    "gt[1] = gt[1][:10]"
   ]
  },
  {
   "cell_type": "code",
   "execution_count": null,
   "metadata": {},
   "outputs": [],
   "source": [
    "pred = [torch.rand(16,3), torch.rand(16,4)]"
   ]
  },
  {
   "cell_type": "code",
   "execution_count": null,
   "metadata": {},
   "outputs": [],
   "source": [
    "from train.loss_fn import *\n",
    "ssd_loss(pred,gt)"
   ]
  },
  {
   "cell_type": "code",
   "execution_count": null,
   "metadata": {},
   "outputs": [],
   "source": [
    "a = torch.rand(16,4) * 200\n",
    "b = gt[0]\n",
    "print(a, a.shape)\n",
    "print(b, b.shape)"
   ]
  },
  {
   "cell_type": "code",
   "execution_count": null,
   "metadata": {},
   "outputs": [],
   "source": [
    "overlap = jaccard(anchor_cnr,anchor_cnr+0.05)"
   ]
  },
  {
   "cell_type": "code",
   "execution_count": null,
   "metadata": {},
   "outputs": [],
   "source": [
    "print(overlap, overlap.shape)"
   ]
  },
  {
   "cell_type": "code",
   "execution_count": null,
   "metadata": {},
   "outputs": [],
   "source": [
    "print(anchor_cnr,anchor_cnr+0.05)"
   ]
  },
  {
   "cell_type": "code",
   "execution_count": 8,
   "metadata": {
    "scrolled": true
   },
   "outputs": [
    {
     "name": "stdout",
     "output_type": "stream",
     "text": [
      "Created SSDNet model succesfully!\n",
      "loading annotations into memory...\n",
      "Done (t=1.36s)\n",
      "creating index...\n",
      "index created!\n",
      "Train start...\n"
     ]
    },
    {
     "ename": "AttributeError",
     "evalue": "'dict' object has no attribute 'to'",
     "output_type": "error",
     "traceback": [
      "\u001b[1;31m---------------------------------------------------------------------------\u001b[0m",
      "\u001b[1;31mAttributeError\u001b[0m                            Traceback (most recent call last)",
      "\u001b[1;32m<ipython-input-8-640926a632ad>\u001b[0m in \u001b[0;36m<module>\u001b[1;34m\u001b[0m\n\u001b[0;32m      1\u001b[0m \u001b[1;32mimport\u001b[0m \u001b[0mmain\u001b[0m\u001b[1;33m\u001b[0m\u001b[1;33m\u001b[0m\u001b[0m\n\u001b[1;32m----> 2\u001b[1;33m \u001b[0mmain\u001b[0m\u001b[1;33m.\u001b[0m\u001b[0mrun\u001b[0m\u001b[1;33m(\u001b[0m\u001b[1;34m'misc/experiments/ssdnet/params.json'\u001b[0m\u001b[1;33m)\u001b[0m\u001b[1;33m\u001b[0m\u001b[1;33m\u001b[0m\u001b[0m\n\u001b[0m",
      "\u001b[1;32mD:\\Popovici_Galea_Faraoanu\\drl_zice_ca_se_poate_schimba_DA_MA\\main.py\u001b[0m in \u001b[0;36mrun\u001b[1;34m(path, resume)\u001b[0m\n\u001b[0;32m     31\u001b[0m     \u001b[0mtrain_loader\u001b[0m\u001b[1;33m,\u001b[0m \u001b[0mvalid_loader\u001b[0m \u001b[1;33m=\u001b[0m \u001b[0mdataloaders\u001b[0m\u001b[1;33m.\u001b[0m\u001b[0mget_dataloaders\u001b[0m\u001b[1;33m(\u001b[0m\u001b[1;33m)\u001b[0m\u001b[1;33m\u001b[0m\u001b[1;33m\u001b[0m\u001b[0m\n\u001b[0;32m     32\u001b[0m \u001b[1;33m\u001b[0m\u001b[0m\n\u001b[1;32m---> 33\u001b[1;33m     \u001b[0mtrain\u001b[0m\u001b[1;33m.\u001b[0m\u001b[0mtrain\u001b[0m\u001b[1;33m(\u001b[0m\u001b[0mmodel\u001b[0m\u001b[1;33m,\u001b[0m \u001b[0moptimizer\u001b[0m\u001b[1;33m,\u001b[0m \u001b[0mtrain_loader\u001b[0m\u001b[1;33m,\u001b[0m \u001b[0mvalid_loader\u001b[0m\u001b[1;33m,\u001b[0m \u001b[0mdevice\u001b[0m\u001b[1;33m,\u001b[0m \u001b[0mparams\u001b[0m\u001b[1;33m)\u001b[0m\u001b[1;33m\u001b[0m\u001b[1;33m\u001b[0m\u001b[0m\n\u001b[0m\u001b[0;32m     34\u001b[0m \u001b[1;33m\u001b[0m\u001b[0m\n\u001b[0;32m     35\u001b[0m \u001b[1;33m\u001b[0m\u001b[0m\n",
      "\u001b[1;32mD:\\Popovici_Galea_Faraoanu\\drl_zice_ca_se_poate_schimba_DA_MA\\train\\train.py\u001b[0m in \u001b[0;36mtrain\u001b[1;34m(model, optimizer, train_loader, valid_loader, device, params)\u001b[0m\n\u001b[0;32m     22\u001b[0m         \u001b[1;32mfor\u001b[0m \u001b[0mbatch_idx\u001b[0m\u001b[1;33m,\u001b[0m \u001b[1;33m(\u001b[0m\u001b[0minput_\u001b[0m\u001b[1;33m,\u001b[0m \u001b[0mlabel\u001b[0m\u001b[1;33m)\u001b[0m \u001b[1;32min\u001b[0m \u001b[0menumerate\u001b[0m\u001b[1;33m(\u001b[0m\u001b[0mtrain_loader\u001b[0m\u001b[1;33m)\u001b[0m\u001b[1;33m:\u001b[0m\u001b[1;33m\u001b[0m\u001b[1;33m\u001b[0m\u001b[0m\n\u001b[0;32m     23\u001b[0m             \u001b[0minput_\u001b[0m \u001b[1;33m=\u001b[0m \u001b[0minput_\u001b[0m\u001b[1;33m.\u001b[0m\u001b[0mto\u001b[0m\u001b[1;33m(\u001b[0m\u001b[0mdevice\u001b[0m\u001b[1;33m)\u001b[0m\u001b[1;33m\u001b[0m\u001b[1;33m\u001b[0m\u001b[0m\n\u001b[1;32m---> 24\u001b[1;33m             \u001b[0mlabel\u001b[0m\u001b[1;33m[\u001b[0m\u001b[1;36m0\u001b[0m\u001b[1;33m]\u001b[0m\u001b[1;33m,\u001b[0m \u001b[0mlabel\u001b[0m\u001b[1;33m[\u001b[0m\u001b[1;36m1\u001b[0m\u001b[1;33m]\u001b[0m \u001b[1;33m=\u001b[0m \u001b[0mlabel\u001b[0m\u001b[1;33m[\u001b[0m\u001b[1;36m0\u001b[0m\u001b[1;33m]\u001b[0m\u001b[1;33m.\u001b[0m\u001b[0mto\u001b[0m\u001b[1;33m(\u001b[0m\u001b[0mdevice\u001b[0m\u001b[1;33m)\u001b[0m\u001b[1;33m,\u001b[0m \u001b[0mlabel\u001b[0m\u001b[1;33m[\u001b[0m\u001b[1;36m1\u001b[0m\u001b[1;33m]\u001b[0m\u001b[1;33m.\u001b[0m\u001b[0mto\u001b[0m\u001b[1;33m(\u001b[0m\u001b[0mdevice\u001b[0m\u001b[1;33m)\u001b[0m\u001b[1;33m\u001b[0m\u001b[1;33m\u001b[0m\u001b[0m\n\u001b[0m\u001b[0;32m     25\u001b[0m \u001b[1;33m\u001b[0m\u001b[0m\n\u001b[0;32m     26\u001b[0m             \u001b[0moptimizer\u001b[0m\u001b[1;33m.\u001b[0m\u001b[0mzero_grad\u001b[0m\u001b[1;33m(\u001b[0m\u001b[1;33m)\u001b[0m\u001b[1;33m\u001b[0m\u001b[1;33m\u001b[0m\u001b[0m\n",
      "\u001b[1;31mAttributeError\u001b[0m: 'dict' object has no attribute 'to'"
     ]
    }
   ],
   "source": [
    "import main\n",
    "main.run('misc/experiments/ssdnet/params.json')"
   ]
  },
  {
   "cell_type": "code",
   "execution_count": null,
   "metadata": {},
   "outputs": [],
   "source": [
    "from architectures.models import SSDNet\n",
    "from data import dataloaders\n",
    "model = SSDNet.SSD_Head()\n",
    "train_loader, valid_loader = dataloaders.get_dataloaders()"
   ]
  },
  {
   "cell_type": "code",
   "execution_count": null,
   "metadata": {},
   "outputs": [],
   "source": [
    "from train.helpers import *\n",
    "x, y = next(iter(valid_loader))"
   ]
  },
  {
   "cell_type": "code",
   "execution_count": null,
   "metadata": {},
   "outputs": [],
   "source": [
    "gt = y"
   ]
  },
  {
   "cell_type": "code",
   "execution_count": null,
   "metadata": {},
   "outputs": [],
   "source": [
    "gt[0], gt[0].shape"
   ]
  },
  {
   "cell_type": "code",
   "execution_count": null,
   "metadata": {
    "scrolled": true
   },
   "outputs": [],
   "source": [
    "x.shape, anchor_cnr.shape"
   ]
  },
  {
   "cell_type": "code",
   "execution_count": null,
   "metadata": {},
   "outputs": [],
   "source": [
    "overlaps = jaccard(gt[0].squeeze(), anchor_cnr)"
   ]
  },
  {
   "cell_type": "code",
   "execution_count": null,
   "metadata": {},
   "outputs": [],
   "source": [
    "overlaps, overlaps.shape"
   ]
  },
  {
   "cell_type": "code",
   "execution_count": null,
   "metadata": {},
   "outputs": [],
   "source": [
    "for line in overlaps:\n",
    "    print(torch.max(line))"
   ]
  },
  {
   "cell_type": "code",
   "execution_count": null,
   "metadata": {},
   "outputs": [],
   "source": [
    "overlaps.max(0), overlaps.max(0)[0].shape"
   ]
  },
  {
   "cell_type": "code",
   "execution_count": null,
   "metadata": {},
   "outputs": [],
   "source": [
    "actn_to_bb(torch.rand(16,4), anchors, 0.25)"
   ]
  },
  {
   "cell_type": "code",
   "execution_count": null,
   "metadata": {},
   "outputs": [],
   "source": [
    "import torchvision\n",
    "from torch.utils.data import Dataset, DataLoader\n",
    "import torchvision.transforms as transforms\n",
    "from data.dataset import CocoDetection\n",
    "\n",
    "composed_transforms = transforms.Compose([transforms.ToTensor()])\n",
    "\n",
    "validation_dataset = CocoDetection(root='../../COCO/val2017/val2017',\n",
    "                                          annFile='../../COCO/annotations_trainval2017/annotations/instances_val2017.json',\n",
    "                                          transform=composed_transforms)"
   ]
  },
  {
   "cell_type": "code",
   "execution_count": null,
   "metadata": {},
   "outputs": [],
   "source": [
    "x,y = next(iter(validation_dataset))\n",
    "x.size\n",
    "len(y)"
   ]
  },
  {
   "cell_type": "code",
   "execution_count": null,
   "metadata": {},
   "outputs": [],
   "source": [
    "y[0]"
   ]
  },
  {
   "cell_type": "code",
   "execution_count": null,
   "metadata": {},
   "outputs": [],
   "source": [
    "y[1]"
   ]
  },
  {
   "cell_type": "code",
   "execution_count": null,
   "metadata": {},
   "outputs": [],
   "source": [
    "x.shape"
   ]
  },
  {
   "cell_type": "code",
   "execution_count": null,
   "metadata": {},
   "outputs": [],
   "source": [
    "import cv2\n",
    "\n",
    "cv2.rectangle(img, (x1, y1), (x2, y2), (255,0,0), 2)"
   ]
  },
  {
   "cell_type": "code",
   "execution_count": null,
   "metadata": {},
   "outputs": [],
   "source": [
    "from train.helpers import *\n",
    "from data.dataloaders import get_dataloaders\n",
    "\n",
    "    \n",
    "valid, valid = get_dataloaders()"
   ]
  },
  {
   "cell_type": "code",
   "execution_count": null,
   "metadata": {},
   "outputs": [],
   "source": [
    "%matplotlib inline\n",
    "visualize_data(valid)"
   ]
  },
  {
   "cell_type": "code",
   "execution_count": 9,
   "metadata": {},
   "outputs": [
    {
     "name": "stdout",
     "output_type": "stream",
     "text": [
      "(2,)\n"
     ]
    },
    {
     "ename": "IndexError",
     "evalue": "too many indices for array",
     "output_type": "error",
     "traceback": [
      "\u001b[1;31m---------------------------------------------------------------------------\u001b[0m",
      "\u001b[1;31mIndexError\u001b[0m                                Traceback (most recent call last)",
      "\u001b[1;32m<ipython-input-9-edc311ba3628>\u001b[0m in \u001b[0;36m<module>\u001b[1;34m\u001b[0m\n\u001b[0;32m      3\u001b[0m \u001b[0ma\u001b[0m \u001b[1;33m=\u001b[0m \u001b[0mnp\u001b[0m\u001b[1;33m.\u001b[0m\u001b[0marray\u001b[0m\u001b[1;33m(\u001b[0m\u001b[1;33m[\u001b[0m\u001b[1;33m[\u001b[0m\u001b[1;36m1\u001b[0m\u001b[1;33m,\u001b[0m\u001b[1;36m2\u001b[0m\u001b[1;33m,\u001b[0m\u001b[1;36m3\u001b[0m\u001b[1;33m]\u001b[0m\u001b[1;33m,\u001b[0m \u001b[1;33m[\u001b[0m\u001b[1;36m4\u001b[0m\u001b[1;33m,\u001b[0m\u001b[1;36m5\u001b[0m\u001b[1;33m]\u001b[0m\u001b[1;33m]\u001b[0m\u001b[1;33m)\u001b[0m\u001b[1;33m\u001b[0m\u001b[1;33m\u001b[0m\u001b[0m\n\u001b[0;32m      4\u001b[0m \u001b[0mprint\u001b[0m\u001b[1;33m(\u001b[0m\u001b[0ma\u001b[0m\u001b[1;33m.\u001b[0m\u001b[0mshape\u001b[0m\u001b[1;33m)\u001b[0m\u001b[1;33m\u001b[0m\u001b[1;33m\u001b[0m\u001b[0m\n\u001b[1;32m----> 5\u001b[1;33m \u001b[0mprint\u001b[0m\u001b[1;33m(\u001b[0m\u001b[0ma\u001b[0m\u001b[1;33m[\u001b[0m\u001b[1;33m:\u001b[0m\u001b[1;33m,\u001b[0m \u001b[1;33m:\u001b[0m\u001b[1;36m2\u001b[0m\u001b[1;33m]\u001b[0m\u001b[1;33m)\u001b[0m\u001b[1;33m\u001b[0m\u001b[1;33m\u001b[0m\u001b[0m\n\u001b[0m\u001b[0;32m      6\u001b[0m \u001b[0mprint\u001b[0m\u001b[1;33m(\u001b[0m\u001b[0ma\u001b[0m\u001b[1;33m[\u001b[0m\u001b[1;33m:\u001b[0m\u001b[1;33m,\u001b[0m \u001b[1;36m2\u001b[0m\u001b[1;33m:\u001b[0m\u001b[1;33m]\u001b[0m\u001b[1;33m)\u001b[0m\u001b[1;33m\u001b[0m\u001b[1;33m\u001b[0m\u001b[0m\n",
      "\u001b[1;31mIndexError\u001b[0m: too many indices for array"
     ]
    }
   ],
   "source": [
    "import numpy as np\n",
    "\n",
    "a = np.array([[1,2,3], [4,5]])\n",
    "print(a.shape)\n",
    "print(a[:, :2])\n",
    "print(a[:, 2:])"
   ]
  },
  {
   "cell_type": "code",
   "execution_count": 46,
   "metadata": {},
   "outputs": [],
   "source": [
    "import torch\n",
    "\n",
    "bbox = torch.IntTensor([[0,0],[1,0],[2,3],[3,3],[4,1],[5,0],[6,3]])\n",
    "gt_idx = torch.LongTensor([0,0,2,3,4,1,6,5,0])\n",
    "gt_overlap = torch.FloatTensor([0,0,0.2,0.7,0.5,0.3,0.1,0.9,0.5])"
   ]
  },
  {
   "cell_type": "code",
   "execution_count": 47,
   "metadata": {},
   "outputs": [
    {
     "name": "stdout",
     "output_type": "stream",
     "text": [
      "tensor([False, False, False,  True,  True, False, False,  True,  True])\n"
     ]
    }
   ],
   "source": [
    "pos = gt_overlap > 0.4\n",
    "print(pos)"
   ]
  },
  {
   "cell_type": "code",
   "execution_count": 48,
   "metadata": {},
   "outputs": [
    {
     "name": "stdout",
     "output_type": "stream",
     "text": [
      "tensor([3, 4, 7, 8])\n"
     ]
    }
   ],
   "source": [
    "pos_idx = torch.nonzero(pos)[:, 0]\n",
    "print(pos_idx)"
   ]
  },
  {
   "cell_type": "code",
   "execution_count": 49,
   "metadata": {},
   "outputs": [
    {
     "name": "stdout",
     "output_type": "stream",
     "text": [
      "tensor([[0, 0],\n",
      "        [0, 0],\n",
      "        [2, 3],\n",
      "        [3, 3],\n",
      "        [4, 1],\n",
      "        [1, 0],\n",
      "        [6, 3],\n",
      "        [5, 0],\n",
      "        [0, 0]], dtype=torch.int32)\n"
     ]
    }
   ],
   "source": [
    "raw_bb = bbox[gt_idx]\n",
    "print(raw_bb)"
   ]
  },
  {
   "cell_type": "code",
   "execution_count": 50,
   "metadata": {},
   "outputs": [
    {
     "name": "stdout",
     "output_type": "stream",
     "text": [
      "tensor([[3, 3],\n",
      "        [4, 1],\n",
      "        [5, 0],\n",
      "        [0, 0]], dtype=torch.int32)\n"
     ]
    }
   ],
   "source": [
    "final_bb = raw_bb[pos_idx]\n",
    "print(final_bb)"
   ]
  },
  {
   "cell_type": "code",
   "execution_count": 51,
   "metadata": {},
   "outputs": [
    {
     "ename": "IndexError",
     "evalue": "index 7 is out of bounds for dimension 0 with size 7",
     "output_type": "error",
     "traceback": [
      "\u001b[1;31m---------------------------------------------------------------------------\u001b[0m",
      "\u001b[1;31mIndexError\u001b[0m                                Traceback (most recent call last)",
      "\u001b[1;32m<ipython-input-51-f8a3914b1bfb>\u001b[0m in \u001b[0;36m<module>\u001b[1;34m\u001b[0m\n\u001b[1;32m----> 1\u001b[1;33m \u001b[0mfinal2_bb\u001b[0m \u001b[1;33m=\u001b[0m \u001b[0mbbox\u001b[0m\u001b[1;33m[\u001b[0m\u001b[0mpos_idx\u001b[0m\u001b[1;33m]\u001b[0m\u001b[1;33m\u001b[0m\u001b[1;33m\u001b[0m\u001b[0m\n\u001b[0m\u001b[0;32m      2\u001b[0m \u001b[0mprint\u001b[0m\u001b[1;33m(\u001b[0m\u001b[0mfinal2_bb\u001b[0m\u001b[1;33m)\u001b[0m\u001b[1;33m\u001b[0m\u001b[1;33m\u001b[0m\u001b[0m\n",
      "\u001b[1;31mIndexError\u001b[0m: index 7 is out of bounds for dimension 0 with size 7"
     ]
    }
   ],
   "source": [
    "final2_bb = bbox[pos_idx]\n",
    "print(final2_bb)"
   ]
  },
  {
   "cell_type": "code",
   "execution_count": 52,
   "metadata": {},
   "outputs": [
    {
     "name": "stdout",
     "output_type": "stream",
     "text": [
      "tensor([ 0.7568,  1.9503, -0.2873], requires_grad=True)\n",
      "tensor([0., 0., 1.])\n"
     ]
    }
   ],
   "source": [
    "input = torch.randn(3, requires_grad=True)\n",
    "print(input)\n",
    "target = torch.empty(3).random_(2)\n",
    "print(target)"
   ]
  },
  {
   "cell_type": "code",
   "execution_count": 87,
   "metadata": {},
   "outputs": [],
   "source": [
    "a = np.array([1,2])\n",
    "b = torch.from_numpy(a)"
   ]
  },
  {
   "cell_type": "code",
   "execution_count": 88,
   "metadata": {},
   "outputs": [
    {
     "data": {
      "text/plain": [
       "tensor([1, 2], dtype=torch.int32)"
      ]
     },
     "execution_count": 88,
     "metadata": {},
     "output_type": "execute_result"
    }
   ],
   "source": [
    "b"
   ]
  },
  {
   "cell_type": "code",
   "execution_count": 91,
   "metadata": {},
   "outputs": [
    {
     "name": "stdout",
     "output_type": "stream",
     "text": [
      "None\n"
     ]
    }
   ],
   "source": [
    "print(b.grad)"
   ]
  },
  {
   "cell_type": "code",
   "execution_count": 92,
   "metadata": {},
   "outputs": [
    {
     "name": "stdout",
     "output_type": "stream",
     "text": [
      "False\n"
     ]
    }
   ],
   "source": [
    "print(b.requires_grad)"
   ]
  },
  {
   "cell_type": "code",
   "execution_count": 95,
   "metadata": {},
   "outputs": [],
   "source": [
    "def create_anchors():\n",
    "    ''' anchors and sizes, 4x4 basic atm '''\n",
    "\n",
    "    anc_grids = [4,2,1]\n",
    "    anc_zooms = [0.75, 1., 1.3]\n",
    "    anc_ratios = [(1.,1.), (1.,0.5), (0.5,1.)]\n",
    "    anchor_scales = [(anz*i,anz*j) for anz in anc_zooms for (i,j) in anc_ratios]\n",
    "    anc_offsets = [1/(o*2) for o in anc_grids]\n",
    "    k = len(anchor_scales)\n",
    "\n",
    "    anc_x = np.concatenate([np.repeat(np.linspace(ao, 1-ao, ag), ag)\n",
    "                        for ao,ag in zip(anc_offsets,anc_grids)])\n",
    "    anc_y = np.concatenate([np.tile(np.linspace(ao, 1-ao, ag), ag)\n",
    "                        for ao,ag in zip(anc_offsets,anc_grids)])\n",
    "    anc_ctrs = np.repeat(np.stack([anc_x,anc_y], axis=1), k, axis=0)\n",
    "\n",
    "    anc_sizes  =   np.concatenate([np.array([[o/ag,p/ag] for i in range(ag*ag) for o,p in anchor_scales])\n",
    "               for ag in anc_grids])\n",
    "    grid_sizes = torch.from_numpy(np.concatenate([np.array([ 1/ag       for i in range(ag*ag) for o,p in anchor_scales])\n",
    "                   for ag in anc_grids])).unsqueeze(1)\n",
    "    anchors = torch.from_numpy(np.concatenate([anc_ctrs, anc_sizes], axis=1)).float()\n",
    "\n",
    "    return anchors, grid_sizes"
   ]
  },
  {
   "cell_type": "code",
   "execution_count": 96,
   "metadata": {},
   "outputs": [],
   "source": [
    "a, g = create_anchors()"
   ]
  },
  {
   "cell_type": "code",
   "execution_count": 98,
   "metadata": {},
   "outputs": [
    {
     "data": {
      "text/plain": [
       "torch.Size([189, 4])"
      ]
     },
     "execution_count": 98,
     "metadata": {},
     "output_type": "execute_result"
    }
   ],
   "source": [
    "a.shape"
   ]
  },
  {
   "cell_type": "code",
   "execution_count": 99,
   "metadata": {},
   "outputs": [
    {
     "data": {
      "text/plain": [
       "torch.Size([189, 1])"
      ]
     },
     "execution_count": 99,
     "metadata": {},
     "output_type": "execute_result"
    }
   ],
   "source": [
    "g.shape"
   ]
  },
  {
   "cell_type": "code",
   "execution_count": 100,
   "metadata": {
    "collapsed": true
   },
   "outputs": [
    {
     "data": {
      "text/plain": [
       "tensor([[0.2500],\n",
       "        [0.2500],\n",
       "        [0.2500],\n",
       "        [0.2500],\n",
       "        [0.2500],\n",
       "        [0.2500],\n",
       "        [0.2500],\n",
       "        [0.2500],\n",
       "        [0.2500],\n",
       "        [0.2500],\n",
       "        [0.2500],\n",
       "        [0.2500],\n",
       "        [0.2500],\n",
       "        [0.2500],\n",
       "        [0.2500],\n",
       "        [0.2500],\n",
       "        [0.2500],\n",
       "        [0.2500],\n",
       "        [0.2500],\n",
       "        [0.2500],\n",
       "        [0.2500],\n",
       "        [0.2500],\n",
       "        [0.2500],\n",
       "        [0.2500],\n",
       "        [0.2500],\n",
       "        [0.2500],\n",
       "        [0.2500],\n",
       "        [0.2500],\n",
       "        [0.2500],\n",
       "        [0.2500],\n",
       "        [0.2500],\n",
       "        [0.2500],\n",
       "        [0.2500],\n",
       "        [0.2500],\n",
       "        [0.2500],\n",
       "        [0.2500],\n",
       "        [0.2500],\n",
       "        [0.2500],\n",
       "        [0.2500],\n",
       "        [0.2500],\n",
       "        [0.2500],\n",
       "        [0.2500],\n",
       "        [0.2500],\n",
       "        [0.2500],\n",
       "        [0.2500],\n",
       "        [0.2500],\n",
       "        [0.2500],\n",
       "        [0.2500],\n",
       "        [0.2500],\n",
       "        [0.2500],\n",
       "        [0.2500],\n",
       "        [0.2500],\n",
       "        [0.2500],\n",
       "        [0.2500],\n",
       "        [0.2500],\n",
       "        [0.2500],\n",
       "        [0.2500],\n",
       "        [0.2500],\n",
       "        [0.2500],\n",
       "        [0.2500],\n",
       "        [0.2500],\n",
       "        [0.2500],\n",
       "        [0.2500],\n",
       "        [0.2500],\n",
       "        [0.2500],\n",
       "        [0.2500],\n",
       "        [0.2500],\n",
       "        [0.2500],\n",
       "        [0.2500],\n",
       "        [0.2500],\n",
       "        [0.2500],\n",
       "        [0.2500],\n",
       "        [0.2500],\n",
       "        [0.2500],\n",
       "        [0.2500],\n",
       "        [0.2500],\n",
       "        [0.2500],\n",
       "        [0.2500],\n",
       "        [0.2500],\n",
       "        [0.2500],\n",
       "        [0.2500],\n",
       "        [0.2500],\n",
       "        [0.2500],\n",
       "        [0.2500],\n",
       "        [0.2500],\n",
       "        [0.2500],\n",
       "        [0.2500],\n",
       "        [0.2500],\n",
       "        [0.2500],\n",
       "        [0.2500],\n",
       "        [0.2500],\n",
       "        [0.2500],\n",
       "        [0.2500],\n",
       "        [0.2500],\n",
       "        [0.2500],\n",
       "        [0.2500],\n",
       "        [0.2500],\n",
       "        [0.2500],\n",
       "        [0.2500],\n",
       "        [0.2500],\n",
       "        [0.2500],\n",
       "        [0.2500],\n",
       "        [0.2500],\n",
       "        [0.2500],\n",
       "        [0.2500],\n",
       "        [0.2500],\n",
       "        [0.2500],\n",
       "        [0.2500],\n",
       "        [0.2500],\n",
       "        [0.2500],\n",
       "        [0.2500],\n",
       "        [0.2500],\n",
       "        [0.2500],\n",
       "        [0.2500],\n",
       "        [0.2500],\n",
       "        [0.2500],\n",
       "        [0.2500],\n",
       "        [0.2500],\n",
       "        [0.2500],\n",
       "        [0.2500],\n",
       "        [0.2500],\n",
       "        [0.2500],\n",
       "        [0.2500],\n",
       "        [0.2500],\n",
       "        [0.2500],\n",
       "        [0.2500],\n",
       "        [0.2500],\n",
       "        [0.2500],\n",
       "        [0.2500],\n",
       "        [0.2500],\n",
       "        [0.2500],\n",
       "        [0.2500],\n",
       "        [0.2500],\n",
       "        [0.2500],\n",
       "        [0.2500],\n",
       "        [0.2500],\n",
       "        [0.2500],\n",
       "        [0.2500],\n",
       "        [0.2500],\n",
       "        [0.2500],\n",
       "        [0.2500],\n",
       "        [0.2500],\n",
       "        [0.2500],\n",
       "        [0.2500],\n",
       "        [0.5000],\n",
       "        [0.5000],\n",
       "        [0.5000],\n",
       "        [0.5000],\n",
       "        [0.5000],\n",
       "        [0.5000],\n",
       "        [0.5000],\n",
       "        [0.5000],\n",
       "        [0.5000],\n",
       "        [0.5000],\n",
       "        [0.5000],\n",
       "        [0.5000],\n",
       "        [0.5000],\n",
       "        [0.5000],\n",
       "        [0.5000],\n",
       "        [0.5000],\n",
       "        [0.5000],\n",
       "        [0.5000],\n",
       "        [0.5000],\n",
       "        [0.5000],\n",
       "        [0.5000],\n",
       "        [0.5000],\n",
       "        [0.5000],\n",
       "        [0.5000],\n",
       "        [0.5000],\n",
       "        [0.5000],\n",
       "        [0.5000],\n",
       "        [0.5000],\n",
       "        [0.5000],\n",
       "        [0.5000],\n",
       "        [0.5000],\n",
       "        [0.5000],\n",
       "        [0.5000],\n",
       "        [0.5000],\n",
       "        [0.5000],\n",
       "        [0.5000],\n",
       "        [1.0000],\n",
       "        [1.0000],\n",
       "        [1.0000],\n",
       "        [1.0000],\n",
       "        [1.0000],\n",
       "        [1.0000],\n",
       "        [1.0000],\n",
       "        [1.0000],\n",
       "        [1.0000]], dtype=torch.float64)"
      ]
     },
     "execution_count": 100,
     "metadata": {},
     "output_type": "execute_result"
    }
   ],
   "source": [
    "g\n"
   ]
  },
  {
   "cell_type": "code",
   "execution_count": 111,
   "metadata": {},
   "outputs": [],
   "source": [
    "import torch.nn as nn\n",
    "import torch.nn.functional as F\n",
    "\n",
    "def flatten_conv(x,k):\n",
    "    bs,nf,gx,gy = x.size()\n",
    "    x = x.permute(0,2,3,1).contiguous()\n",
    "    return x.view(bs,-1,nf//k)\n",
    "\n",
    "class OutConv(nn.Module):\n",
    "    def __init__(self, k, nin, bias):\n",
    "        super().__init__()\n",
    "        self.k = k\n",
    "        self.oconv1 = nn.Conv2d(nin, 3*k, 3, padding=1)\n",
    "        self.oconv2 = nn.Conv2d(nin, 4*k, 3, padding=1)\n",
    "        self.oconv1.bias.data.zero_().add_(bias)\n",
    "        \n",
    "    def forward(self, x):\n",
    "        return [flatten_conv(self.oconv1(x), self.k),\n",
    "                flatten_conv(self.oconv2(x), self.k)]\n",
    "\n",
    "class StdConv(nn.Module):\n",
    "    def __init__(self, nin, nout, stride=2, drop=0.1):\n",
    "        super().__init__()\n",
    "        self.conv = nn.Conv2d(nin, nout, 3, stride=stride, padding=1)\n",
    "        self.bn = nn.BatchNorm2d(nout)\n",
    "        self.drop = nn.Dropout(drop)\n",
    "        \n",
    "    def forward(self, x): return self.drop(self.bn(F.relu(self.conv(x))))\n",
    "\n",
    "class SSD_MultiHead(nn.Module):\n",
    "    def __init__(self, k, bias, drop=0.1):\n",
    "        super().__init__()\n",
    "        self.drop = nn.Dropout(drop)\n",
    "        self.sconv1 = StdConv(512,256, drop=drop)\n",
    "        self.sconv2 = StdConv(256,256, drop=drop)\n",
    "        self.sconv3 = StdConv(256,256, drop=drop)\n",
    "        self.out0 = OutConv(k, 256, bias)\n",
    "        self.out1 = OutConv(k, 256, bias)\n",
    "        self.out2 = OutConv(k, 256, bias)\n",
    "        self.out3 = OutConv(k, 256, bias)\n",
    "\n",
    "    def forward(self, x):\n",
    "        x = self.drop(F.relu(x))\n",
    "        x = self.sconv1(x)\n",
    "        o1c,o1l = self.out1(x)\n",
    "        x = self.sconv2(x)\n",
    "        o2c,o2l = self.out2(x)\n",
    "        x = self.sconv3(x)\n",
    "        o3c,o3l = self.out3(x)\n",
    "        return [torch.cat([o1c,o2c,o3c], dim=1),\n",
    "                torch.cat([o1l,o2l,o3l], dim=1)]"
   ]
  },
  {
   "cell_type": "code",
   "execution_count": 112,
   "metadata": {},
   "outputs": [],
   "source": [
    "a = torch.rand([2,512,7,7])\n",
    "net = SSD_MultiHead(9,-4.)"
   ]
  },
  {
   "cell_type": "code",
   "execution_count": 114,
   "metadata": {},
   "outputs": [],
   "source": [
    "b = net(a)"
   ]
  },
  {
   "cell_type": "code",
   "execution_count": 116,
   "metadata": {},
   "outputs": [
    {
     "data": {
      "text/plain": [
       "2"
      ]
     },
     "execution_count": 116,
     "metadata": {},
     "output_type": "execute_result"
    }
   ],
   "source": [
    "len(b)"
   ]
  },
  {
   "cell_type": "code",
   "execution_count": 117,
   "metadata": {},
   "outputs": [
    {
     "data": {
      "text/plain": [
       "torch.Size([2, 189, 3])"
      ]
     },
     "execution_count": 117,
     "metadata": {},
     "output_type": "execute_result"
    }
   ],
   "source": [
    "b[0].shape"
   ]
  },
  {
   "cell_type": "code",
   "execution_count": 118,
   "metadata": {},
   "outputs": [
    {
     "data": {
      "text/plain": [
       "torch.Size([2, 189, 4])"
      ]
     },
     "execution_count": 118,
     "metadata": {},
     "output_type": "execute_result"
    }
   ],
   "source": [
    "b[1].shape"
   ]
  },
  {
   "cell_type": "code",
   "execution_count": 125,
   "metadata": {},
   "outputs": [],
   "source": [
    "a = [torch.rand(2,2), torch.rand(2,2)]\n",
    "b = torch.stack(a)"
   ]
  },
  {
   "cell_type": "code",
   "execution_count": 126,
   "metadata": {},
   "outputs": [
    {
     "data": {
      "text/plain": [
       "tensor([[[0.8194, 0.8068],\n",
       "         [0.0303, 0.5417]],\n",
       "\n",
       "        [[0.7930, 0.9366],\n",
       "         [0.2702, 0.8981]]])"
      ]
     },
     "execution_count": 126,
     "metadata": {},
     "output_type": "execute_result"
    }
   ],
   "source": [
    "b"
   ]
  },
  {
   "cell_type": "code",
   "execution_count": 127,
   "metadata": {},
   "outputs": [
    {
     "data": {
      "text/plain": [
       "torch.Size([2, 2, 2])"
      ]
     },
     "execution_count": 127,
     "metadata": {},
     "output_type": "execute_result"
    }
   ],
   "source": [
    "b.shape"
   ]
  },
  {
   "cell_type": "code",
   "execution_count": 140,
   "metadata": {},
   "outputs": [
    {
     "data": {
      "text/plain": [
       "tensor([[0.8194, 0.8068],\n",
       "        [0.0303, 0.5417]])"
      ]
     },
     "execution_count": 140,
     "metadata": {},
     "output_type": "execute_result"
    }
   ],
   "source": [
    "b[0]"
   ]
  },
  {
   "cell_type": "code",
   "execution_count": 31,
   "metadata": {},
   "outputs": [],
   "source": [
    "a = torch.rand(1, requires_grad=True)\n",
    "b = torch.rand(1)"
   ]
  },
  {
   "cell_type": "code",
   "execution_count": 32,
   "metadata": {},
   "outputs": [
    {
     "data": {
      "text/plain": [
       "tensor([0.7342], grad_fn=<AddBackward0>)"
      ]
     },
     "execution_count": 32,
     "metadata": {},
     "output_type": "execute_result"
    }
   ],
   "source": [
    "a + b"
   ]
  },
  {
   "cell_type": "code",
   "execution_count": 33,
   "metadata": {},
   "outputs": [],
   "source": [
    "c = a + b"
   ]
  },
  {
   "cell_type": "code",
   "execution_count": 35,
   "metadata": {},
   "outputs": [
    {
     "name": "stdout",
     "output_type": "stream",
     "text": [
      "None\n"
     ]
    }
   ],
   "source": [
    "print(c.grad)"
   ]
  },
  {
   "cell_type": "code",
   "execution_count": 36,
   "metadata": {},
   "outputs": [
    {
     "data": {
      "text/plain": [
       "tensor([0.7342], grad_fn=<AddBackward0>)"
      ]
     },
     "execution_count": 36,
     "metadata": {},
     "output_type": "execute_result"
    }
   ],
   "source": [
    "c"
   ]
  },
  {
   "cell_type": "code",
   "execution_count": 43,
   "metadata": {},
   "outputs": [
    {
     "name": "stdout",
     "output_type": "stream",
     "text": [
      "tensor(1.9458, grad_fn=<MaxBackward1>)\n",
      "tensor(1.9163, grad_fn=<MaxBackward1>)\n",
      "tensor(1.9527, grad_fn=<MaxBackward1>)\n",
      "tensor(1.9322, grad_fn=<MaxBackward1>)\n",
      "tensor(1.9555, grad_fn=<MaxBackward1>)\n",
      "tensor(1.9874, grad_fn=<MaxBackward1>)\n",
      "tensor(1.9315, grad_fn=<MaxBackward1>)\n",
      "tensor(1.9025, grad_fn=<MaxBackward1>)\n",
      "tensor(1.9095, grad_fn=<MaxBackward1>)\n",
      "tensor(1.9032, grad_fn=<MaxBackward1>)\n",
      "tensor(1.9705, grad_fn=<MaxBackward1>)\n",
      "tensor(1.9565, grad_fn=<MaxBackward1>)\n",
      "tensor(1.8790, grad_fn=<MaxBackward1>)\n",
      "tensor(1.9253, grad_fn=<MaxBackward1>)\n",
      "tensor(1.9452, grad_fn=<MaxBackward1>)\n",
      "tensor(1.8860, grad_fn=<MaxBackward1>)\n",
      "tensor(1.9804, grad_fn=<MaxBackward1>)\n",
      "tensor(1.8552, grad_fn=<MaxBackward1>)\n",
      "tensor(1.9415, grad_fn=<MaxBackward1>)\n",
      "tensor(1.9652, grad_fn=<MaxBackward1>)\n",
      "tensor(1.9511, grad_fn=<MaxBackward1>)\n",
      "tensor(1.9114, grad_fn=<MaxBackward1>)\n",
      "tensor(1.9389, grad_fn=<MaxBackward1>)\n",
      "tensor(1.9210, grad_fn=<MaxBackward1>)\n",
      "tensor(1.9149, grad_fn=<MaxBackward1>)\n",
      "tensor(1.8511, grad_fn=<MaxBackward1>)\n",
      "tensor(1.9623, grad_fn=<MaxBackward1>)\n",
      "tensor(1.9230, grad_fn=<MaxBackward1>)\n",
      "tensor(1.9471, grad_fn=<MaxBackward1>)\n",
      "tensor(1.9002, grad_fn=<MaxBackward1>)\n",
      "tensor(1.9547, grad_fn=<MaxBackward1>)\n",
      "tensor(1.9457, grad_fn=<MaxBackward1>)\n",
      "tensor(1.8835, grad_fn=<MaxBackward1>)\n",
      "tensor(1.8682, grad_fn=<MaxBackward1>)\n",
      "tensor(1.9677, grad_fn=<MaxBackward1>)\n",
      "tensor(1.9331, grad_fn=<MaxBackward1>)\n",
      "tensor(1.9427, grad_fn=<MaxBackward1>)\n",
      "tensor(1.9733, grad_fn=<MaxBackward1>)\n",
      "tensor(1.9231, grad_fn=<MaxBackward1>)\n",
      "tensor(1.9745, grad_fn=<MaxBackward1>)\n",
      "tensor(1.9139, grad_fn=<MaxBackward1>)\n",
      "tensor(1.9206, grad_fn=<MaxBackward1>)\n",
      "tensor(1.8686, grad_fn=<MaxBackward1>)\n",
      "tensor(1.9728, grad_fn=<MaxBackward1>)\n",
      "tensor(1.8826, grad_fn=<MaxBackward1>)\n",
      "tensor(1.9776, grad_fn=<MaxBackward1>)\n",
      "tensor(1.9051, grad_fn=<MaxBackward1>)\n",
      "tensor(1.9492, grad_fn=<MaxBackward1>)\n",
      "tensor(1.9388, grad_fn=<MaxBackward1>)\n",
      "tensor(1.9192, grad_fn=<MaxBackward1>)\n",
      "tensor(1.9123, grad_fn=<MaxBackward1>)\n",
      "tensor(1.9470, grad_fn=<MaxBackward1>)\n",
      "tensor(1.9148, grad_fn=<MaxBackward1>)\n",
      "tensor(1.9572, grad_fn=<MaxBackward1>)\n",
      "tensor(1.8813, grad_fn=<MaxBackward1>)\n",
      "tensor(1.9399, grad_fn=<MaxBackward1>)\n",
      "tensor(1.8856, grad_fn=<MaxBackward1>)\n",
      "tensor(1.9656, grad_fn=<MaxBackward1>)\n",
      "tensor(1.9594, grad_fn=<MaxBackward1>)\n",
      "tensor(1.9279, grad_fn=<MaxBackward1>)\n",
      "tensor(1.8479, grad_fn=<MaxBackward1>)\n",
      "tensor(1.8856, grad_fn=<MaxBackward1>)\n",
      "tensor(1.9544, grad_fn=<MaxBackward1>)\n",
      "tensor(1.9453, grad_fn=<MaxBackward1>)\n",
      "tensor(1.9636, grad_fn=<MaxBackward1>)\n",
      "tensor(1.9585, grad_fn=<MaxBackward1>)\n",
      "tensor(1.9327, grad_fn=<MaxBackward1>)\n",
      "tensor(1.9451, grad_fn=<MaxBackward1>)\n",
      "tensor(1.9760, grad_fn=<MaxBackward1>)\n",
      "tensor(1.9110, grad_fn=<MaxBackward1>)\n",
      "tensor(1.9492, grad_fn=<MaxBackward1>)\n",
      "tensor(1.9081, grad_fn=<MaxBackward1>)\n",
      "tensor(1.9556, grad_fn=<MaxBackward1>)\n",
      "tensor(1.9521, grad_fn=<MaxBackward1>)\n",
      "tensor(1.8350, grad_fn=<MaxBackward1>)\n",
      "tensor(1.9512, grad_fn=<MaxBackward1>)\n",
      "tensor(1.9364, grad_fn=<MaxBackward1>)\n",
      "tensor(1.8908, grad_fn=<MaxBackward1>)\n",
      "tensor(1.9433, grad_fn=<MaxBackward1>)\n",
      "tensor(1.9689, grad_fn=<MaxBackward1>)\n",
      "tensor(1.8535, grad_fn=<MaxBackward1>)\n",
      "tensor(1.9056, grad_fn=<MaxBackward1>)\n",
      "tensor(1.9738, grad_fn=<MaxBackward1>)\n",
      "tensor(1.9555, grad_fn=<MaxBackward1>)\n",
      "tensor(1.9450, grad_fn=<MaxBackward1>)\n",
      "tensor(1.9738, grad_fn=<MaxBackward1>)\n",
      "tensor(1.9895, grad_fn=<MaxBackward1>)\n",
      "tensor(1.9416, grad_fn=<MaxBackward1>)\n",
      "tensor(1.9555, grad_fn=<MaxBackward1>)\n",
      "tensor(1.9455, grad_fn=<MaxBackward1>)\n",
      "tensor(1.9532, grad_fn=<MaxBackward1>)\n",
      "tensor(1.8789, grad_fn=<MaxBackward1>)\n",
      "tensor(1.9873, grad_fn=<MaxBackward1>)\n",
      "tensor(1.9857, grad_fn=<MaxBackward1>)\n",
      "tensor(1.9044, grad_fn=<MaxBackward1>)\n",
      "tensor(1.9245, grad_fn=<MaxBackward1>)\n",
      "tensor(1.9200, grad_fn=<MaxBackward1>)\n",
      "tensor(1.9182, grad_fn=<MaxBackward1>)\n",
      "tensor(1.8844, grad_fn=<MaxBackward1>)\n",
      "tensor(1.9494, grad_fn=<MaxBackward1>)\n",
      "tensor(1.9707, grad_fn=<MaxBackward1>)\n",
      "tensor(1.9178, grad_fn=<MaxBackward1>)\n",
      "tensor(1.9520, grad_fn=<MaxBackward1>)\n",
      "tensor(1.9678, grad_fn=<MaxBackward1>)\n",
      "tensor(1.9750, grad_fn=<MaxBackward1>)\n",
      "tensor(1.9538, grad_fn=<MaxBackward1>)\n",
      "tensor(1.9291, grad_fn=<MaxBackward1>)\n",
      "tensor(1.9263, grad_fn=<MaxBackward1>)\n",
      "tensor(1.9954, grad_fn=<MaxBackward1>)\n",
      "tensor(1.9445, grad_fn=<MaxBackward1>)\n",
      "tensor(1.9594, grad_fn=<MaxBackward1>)\n",
      "tensor(1.9540, grad_fn=<MaxBackward1>)\n",
      "tensor(1.9020, grad_fn=<MaxBackward1>)\n",
      "tensor(1.9461, grad_fn=<MaxBackward1>)\n",
      "tensor(1.9680, grad_fn=<MaxBackward1>)\n",
      "tensor(1.8978, grad_fn=<MaxBackward1>)\n",
      "tensor(1.8370, grad_fn=<MaxBackward1>)\n",
      "tensor(1.9484, grad_fn=<MaxBackward1>)\n",
      "tensor(1.9222, grad_fn=<MaxBackward1>)\n",
      "tensor(1.8871, grad_fn=<MaxBackward1>)\n",
      "tensor(1.9244, grad_fn=<MaxBackward1>)\n",
      "tensor(1.8999, grad_fn=<MaxBackward1>)\n",
      "tensor(1.9528, grad_fn=<MaxBackward1>)\n",
      "tensor(1.9385, grad_fn=<MaxBackward1>)\n",
      "tensor(1.9077, grad_fn=<MaxBackward1>)\n",
      "tensor(1.9294, grad_fn=<MaxBackward1>)\n",
      "tensor(1.9253, grad_fn=<MaxBackward1>)\n",
      "tensor(1.9582, grad_fn=<MaxBackward1>)\n",
      "tensor(1.9534, grad_fn=<MaxBackward1>)\n",
      "tensor(1.9659, grad_fn=<MaxBackward1>)\n",
      "tensor(1.9866, grad_fn=<MaxBackward1>)\n",
      "tensor(1.9416, grad_fn=<MaxBackward1>)\n",
      "tensor(1.9413, grad_fn=<MaxBackward1>)\n",
      "tensor(1.9509, grad_fn=<MaxBackward1>)\n",
      "tensor(1.9280, grad_fn=<MaxBackward1>)\n",
      "tensor(1.9291, grad_fn=<MaxBackward1>)\n",
      "tensor(1.8764, grad_fn=<MaxBackward1>)\n",
      "tensor(1.9695, grad_fn=<MaxBackward1>)\n",
      "tensor(1.9164, grad_fn=<MaxBackward1>)\n",
      "tensor(1.9453, grad_fn=<MaxBackward1>)\n",
      "tensor(1.9931, grad_fn=<MaxBackward1>)\n",
      "tensor(1.9836, grad_fn=<MaxBackward1>)\n",
      "tensor(1.9097, grad_fn=<MaxBackward1>)\n",
      "tensor(1.9018, grad_fn=<MaxBackward1>)\n",
      "tensor(1.9530, grad_fn=<MaxBackward1>)\n",
      "tensor(1.9660, grad_fn=<MaxBackward1>)\n",
      "tensor(1.8875, grad_fn=<MaxBackward1>)\n",
      "tensor(1.9194, grad_fn=<MaxBackward1>)\n",
      "tensor(1.9356, grad_fn=<MaxBackward1>)\n",
      "tensor(1.8526, grad_fn=<MaxBackward1>)\n",
      "tensor(1.9413, grad_fn=<MaxBackward1>)\n",
      "tensor(1.9213, grad_fn=<MaxBackward1>)\n",
      "tensor(1.9506, grad_fn=<MaxBackward1>)\n",
      "tensor(1.9629, grad_fn=<MaxBackward1>)\n",
      "tensor(1.9607, grad_fn=<MaxBackward1>)\n",
      "tensor(1.9523, grad_fn=<MaxBackward1>)\n",
      "tensor(1.9394, grad_fn=<MaxBackward1>)\n",
      "tensor(1.9666, grad_fn=<MaxBackward1>)\n",
      "tensor(1.9170, grad_fn=<MaxBackward1>)\n",
      "tensor(1.9474, grad_fn=<MaxBackward1>)\n",
      "tensor(1.9297, grad_fn=<MaxBackward1>)\n",
      "tensor(1.8510, grad_fn=<MaxBackward1>)\n",
      "tensor(1.9095, grad_fn=<MaxBackward1>)\n",
      "tensor(1.8580, grad_fn=<MaxBackward1>)\n",
      "tensor(1.9453, grad_fn=<MaxBackward1>)\n",
      "tensor(1.9372, grad_fn=<MaxBackward1>)\n",
      "tensor(1.9722, grad_fn=<MaxBackward1>)\n",
      "tensor(1.9570, grad_fn=<MaxBackward1>)\n",
      "tensor(1.9715, grad_fn=<MaxBackward1>)\n",
      "tensor(1.9608, grad_fn=<MaxBackward1>)\n",
      "tensor(1.9556, grad_fn=<MaxBackward1>)\n",
      "tensor(1.9667, grad_fn=<MaxBackward1>)\n",
      "tensor(1.9415, grad_fn=<MaxBackward1>)\n",
      "tensor(1.9446, grad_fn=<MaxBackward1>)\n",
      "tensor(1.9402, grad_fn=<MaxBackward1>)\n",
      "tensor(1.8959, grad_fn=<MaxBackward1>)\n",
      "tensor(1.9488, grad_fn=<MaxBackward1>)\n",
      "tensor(1.8895, grad_fn=<MaxBackward1>)\n",
      "tensor(1.9835, grad_fn=<MaxBackward1>)\n",
      "tensor(1.9598, grad_fn=<MaxBackward1>)\n",
      "tensor(1.9160, grad_fn=<MaxBackward1>)\n",
      "tensor(1.9627, grad_fn=<MaxBackward1>)\n",
      "tensor(1.9368, grad_fn=<MaxBackward1>)\n",
      "tensor(1.9118, grad_fn=<MaxBackward1>)\n",
      "tensor(1.9322, grad_fn=<MaxBackward1>)\n",
      "tensor(1.9343, grad_fn=<MaxBackward1>)\n",
      "tensor(1.9051, grad_fn=<MaxBackward1>)\n",
      "tensor(1.9867, grad_fn=<MaxBackward1>)\n",
      "tensor(1.9336, grad_fn=<MaxBackward1>)\n",
      "tensor(1.9519, grad_fn=<MaxBackward1>)\n",
      "tensor(1.9329, grad_fn=<MaxBackward1>)\n",
      "tensor(1.8570, grad_fn=<MaxBackward1>)\n",
      "tensor(1.9148, grad_fn=<MaxBackward1>)\n",
      "tensor(1.9727, grad_fn=<MaxBackward1>)\n",
      "tensor(1.8630, grad_fn=<MaxBackward1>)\n",
      "tensor(1.9022, grad_fn=<MaxBackward1>)\n",
      "tensor(1.9051, grad_fn=<MaxBackward1>)\n",
      "tensor(1.9473, grad_fn=<MaxBackward1>)\n",
      "tensor(1.9411, grad_fn=<MaxBackward1>)\n",
      "tensor(1.9118, grad_fn=<MaxBackward1>)\n",
      "tensor(1.9459, grad_fn=<MaxBackward1>)\n",
      "tensor(1.9687, grad_fn=<MaxBackward1>)\n",
      "tensor(1.9473, grad_fn=<MaxBackward1>)\n",
      "tensor(1.9269, grad_fn=<MaxBackward1>)\n",
      "tensor(1.9679, grad_fn=<MaxBackward1>)\n",
      "tensor(1.9746, grad_fn=<MaxBackward1>)\n",
      "tensor(1.9795, grad_fn=<MaxBackward1>)\n",
      "tensor(1.9849, grad_fn=<MaxBackward1>)\n",
      "tensor(1.9395, grad_fn=<MaxBackward1>)\n",
      "tensor(1.9725, grad_fn=<MaxBackward1>)\n",
      "tensor(1.9821, grad_fn=<MaxBackward1>)\n",
      "tensor(1.9364, grad_fn=<MaxBackward1>)\n",
      "tensor(1.9546, grad_fn=<MaxBackward1>)\n",
      "tensor(1.9708, grad_fn=<MaxBackward1>)\n",
      "tensor(1.9444, grad_fn=<MaxBackward1>)\n",
      "tensor(1.9709, grad_fn=<MaxBackward1>)\n",
      "tensor(1.9198, grad_fn=<MaxBackward1>)\n",
      "tensor(1.9187, grad_fn=<MaxBackward1>)\n",
      "tensor(1.9586, grad_fn=<MaxBackward1>)\n",
      "tensor(1.9370, grad_fn=<MaxBackward1>)\n",
      "tensor(1.9504, grad_fn=<MaxBackward1>)\n",
      "tensor(1.9412, grad_fn=<MaxBackward1>)\n",
      "tensor(1.9544, grad_fn=<MaxBackward1>)\n",
      "tensor(1.9155, grad_fn=<MaxBackward1>)\n",
      "tensor(1.9480, grad_fn=<MaxBackward1>)\n",
      "tensor(1.9406, grad_fn=<MaxBackward1>)\n",
      "tensor(1.9175, grad_fn=<MaxBackward1>)\n",
      "tensor(1.8857, grad_fn=<MaxBackward1>)\n",
      "tensor(1.9777, grad_fn=<MaxBackward1>)\n",
      "tensor(1.9573, grad_fn=<MaxBackward1>)\n",
      "tensor(1.9506, grad_fn=<MaxBackward1>)\n",
      "tensor(1.9596, grad_fn=<MaxBackward1>)\n",
      "tensor(1.9465, grad_fn=<MaxBackward1>)\n",
      "tensor(1.9265, grad_fn=<MaxBackward1>)\n",
      "tensor(1.9403, grad_fn=<MaxBackward1>)\n",
      "tensor(1.9346, grad_fn=<MaxBackward1>)\n",
      "tensor(1.8939, grad_fn=<MaxBackward1>)\n",
      "tensor(1.9190, grad_fn=<MaxBackward1>)\n",
      "tensor(1.9058, grad_fn=<MaxBackward1>)\n",
      "tensor(1.9397, grad_fn=<MaxBackward1>)\n",
      "tensor(1.9216, grad_fn=<MaxBackward1>)\n",
      "tensor(1.9416, grad_fn=<MaxBackward1>)\n",
      "tensor(1.9471, grad_fn=<MaxBackward1>)\n",
      "tensor(1.9628, grad_fn=<MaxBackward1>)\n",
      "tensor(1.8966, grad_fn=<MaxBackward1>)\n",
      "tensor(1.9705, grad_fn=<MaxBackward1>)\n",
      "tensor(1.9399, grad_fn=<MaxBackward1>)\n",
      "tensor(1.9083, grad_fn=<MaxBackward1>)\n",
      "tensor(1.9383, grad_fn=<MaxBackward1>)\n",
      "tensor(1.9467, grad_fn=<MaxBackward1>)\n",
      "tensor(1.8905, grad_fn=<MaxBackward1>)\n",
      "tensor(1.9252, grad_fn=<MaxBackward1>)\n",
      "tensor(1.9514, grad_fn=<MaxBackward1>)\n",
      "tensor(1.9132, grad_fn=<MaxBackward1>)\n",
      "tensor(1.9270, grad_fn=<MaxBackward1>)\n",
      "tensor(1.9304, grad_fn=<MaxBackward1>)\n",
      "tensor(1.9128, grad_fn=<MaxBackward1>)\n",
      "tensor(1.9351, grad_fn=<MaxBackward1>)\n",
      "tensor(1.9697, grad_fn=<MaxBackward1>)\n",
      "tensor(1.9130, grad_fn=<MaxBackward1>)\n",
      "tensor(1.9231, grad_fn=<MaxBackward1>)\n",
      "tensor(1.9460, grad_fn=<MaxBackward1>)\n",
      "tensor(1.9404, grad_fn=<MaxBackward1>)\n",
      "tensor(1.8630, grad_fn=<MaxBackward1>)\n",
      "tensor(1.9630, grad_fn=<MaxBackward1>)\n",
      "tensor(1.9271, grad_fn=<MaxBackward1>)\n",
      "tensor(1.8873, grad_fn=<MaxBackward1>)\n",
      "tensor(1.9739, grad_fn=<MaxBackward1>)\n",
      "tensor(1.9541, grad_fn=<MaxBackward1>)\n",
      "tensor(1.9401, grad_fn=<MaxBackward1>)\n",
      "tensor(1.9031, grad_fn=<MaxBackward1>)\n",
      "tensor(1.9350, grad_fn=<MaxBackward1>)\n",
      "tensor(1.9523, grad_fn=<MaxBackward1>)\n",
      "tensor(1.9556, grad_fn=<MaxBackward1>)\n",
      "tensor(1.9407, grad_fn=<MaxBackward1>)\n",
      "tensor(1.9652, grad_fn=<MaxBackward1>)\n",
      "tensor(1.9299, grad_fn=<MaxBackward1>)\n",
      "tensor(1.9629, grad_fn=<MaxBackward1>)\n",
      "tensor(1.9635, grad_fn=<MaxBackward1>)\n",
      "tensor(1.9298, grad_fn=<MaxBackward1>)\n",
      "tensor(1.9188, grad_fn=<MaxBackward1>)\n",
      "tensor(1.9399, grad_fn=<MaxBackward1>)\n",
      "tensor(1.9023, grad_fn=<MaxBackward1>)\n",
      "tensor(1.9210, grad_fn=<MaxBackward1>)\n",
      "tensor(1.9173, grad_fn=<MaxBackward1>)\n",
      "tensor(1.9203, grad_fn=<MaxBackward1>)\n",
      "tensor(1.9778, grad_fn=<MaxBackward1>)\n",
      "tensor(1.9490, grad_fn=<MaxBackward1>)\n",
      "tensor(1.9662, grad_fn=<MaxBackward1>)\n",
      "tensor(1.8872, grad_fn=<MaxBackward1>)\n",
      "tensor(1.9623, grad_fn=<MaxBackward1>)\n",
      "tensor(1.9750, grad_fn=<MaxBackward1>)\n",
      "tensor(1.8827, grad_fn=<MaxBackward1>)\n",
      "tensor(1.9537, grad_fn=<MaxBackward1>)\n",
      "tensor(1.9492, grad_fn=<MaxBackward1>)\n",
      "tensor(1.9074, grad_fn=<MaxBackward1>)\n",
      "tensor(1.8832, grad_fn=<MaxBackward1>)\n",
      "tensor(1.9471, grad_fn=<MaxBackward1>)\n",
      "tensor(1.9773, grad_fn=<MaxBackward1>)\n",
      "tensor(1.9541, grad_fn=<MaxBackward1>)\n",
      "tensor(1.9510, grad_fn=<MaxBackward1>)\n",
      "tensor(1.8727, grad_fn=<MaxBackward1>)\n",
      "tensor(1.9354, grad_fn=<MaxBackward1>)\n",
      "tensor(1.8972, grad_fn=<MaxBackward1>)\n",
      "tensor(1.9476, grad_fn=<MaxBackward1>)\n",
      "tensor(1.9643, grad_fn=<MaxBackward1>)\n",
      "tensor(1.9239, grad_fn=<MaxBackward1>)\n",
      "tensor(1.8398, grad_fn=<MaxBackward1>)\n",
      "tensor(1.8727, grad_fn=<MaxBackward1>)\n",
      "tensor(1.9456, grad_fn=<MaxBackward1>)\n",
      "tensor(1.9699, grad_fn=<MaxBackward1>)\n",
      "tensor(1.9778, grad_fn=<MaxBackward1>)\n",
      "tensor(1.9906, grad_fn=<MaxBackward1>)\n",
      "tensor(1.9621, grad_fn=<MaxBackward1>)\n",
      "tensor(1.9773, grad_fn=<MaxBackward1>)\n",
      "tensor(1.9326, grad_fn=<MaxBackward1>)\n",
      "tensor(1.9345, grad_fn=<MaxBackward1>)\n",
      "tensor(1.9619, grad_fn=<MaxBackward1>)\n",
      "tensor(1.9775, grad_fn=<MaxBackward1>)\n",
      "tensor(1.9438, grad_fn=<MaxBackward1>)\n",
      "tensor(1.9723, grad_fn=<MaxBackward1>)\n",
      "tensor(1.9827, grad_fn=<MaxBackward1>)\n",
      "tensor(1.9116, grad_fn=<MaxBackward1>)\n",
      "tensor(1.9581, grad_fn=<MaxBackward1>)\n",
      "tensor(1.9340, grad_fn=<MaxBackward1>)\n",
      "tensor(1.9051, grad_fn=<MaxBackward1>)\n",
      "tensor(1.9299, grad_fn=<MaxBackward1>)\n",
      "tensor(1.9273, grad_fn=<MaxBackward1>)\n",
      "tensor(1.9868, grad_fn=<MaxBackward1>)\n",
      "tensor(1.9895, grad_fn=<MaxBackward1>)\n",
      "tensor(1.9095, grad_fn=<MaxBackward1>)\n",
      "tensor(1.9798, grad_fn=<MaxBackward1>)\n",
      "tensor(1.9495, grad_fn=<MaxBackward1>)\n",
      "tensor(1.9614, grad_fn=<MaxBackward1>)\n",
      "tensor(1.9552, grad_fn=<MaxBackward1>)\n",
      "tensor(1.9144, grad_fn=<MaxBackward1>)\n",
      "tensor(1.9014, grad_fn=<MaxBackward1>)\n",
      "tensor(1.9192, grad_fn=<MaxBackward1>)\n",
      "tensor(1.9659, grad_fn=<MaxBackward1>)\n",
      "tensor(1.9410, grad_fn=<MaxBackward1>)\n",
      "tensor(1.9921, grad_fn=<MaxBackward1>)\n",
      "tensor(1.9666, grad_fn=<MaxBackward1>)\n",
      "tensor(1.9350, grad_fn=<MaxBackward1>)\n",
      "tensor(1.9637, grad_fn=<MaxBackward1>)\n",
      "tensor(1.9252, grad_fn=<MaxBackward1>)\n",
      "tensor(1.9288, grad_fn=<MaxBackward1>)\n",
      "tensor(1.9396, grad_fn=<MaxBackward1>)\n",
      "tensor(1.9450, grad_fn=<MaxBackward1>)\n",
      "tensor(1.9492, grad_fn=<MaxBackward1>)\n",
      "tensor(1.9594, grad_fn=<MaxBackward1>)\n",
      "tensor(1.9249, grad_fn=<MaxBackward1>)\n",
      "tensor(1.8852, grad_fn=<MaxBackward1>)\n",
      "tensor(1.9073, grad_fn=<MaxBackward1>)\n",
      "tensor(1.9411, grad_fn=<MaxBackward1>)\n",
      "tensor(1.9314, grad_fn=<MaxBackward1>)\n",
      "tensor(1.9667, grad_fn=<MaxBackward1>)\n",
      "tensor(1.9609, grad_fn=<MaxBackward1>)\n",
      "tensor(1.9739, grad_fn=<MaxBackward1>)\n",
      "tensor(1.8936, grad_fn=<MaxBackward1>)\n",
      "tensor(1.9564, grad_fn=<MaxBackward1>)\n",
      "tensor(1.8988, grad_fn=<MaxBackward1>)\n",
      "tensor(1.8672, grad_fn=<MaxBackward1>)\n",
      "tensor(1.9934, grad_fn=<MaxBackward1>)\n",
      "tensor(1.9091, grad_fn=<MaxBackward1>)\n",
      "tensor(1.9457, grad_fn=<MaxBackward1>)\n",
      "tensor(1.8757, grad_fn=<MaxBackward1>)\n",
      "tensor(1.9256, grad_fn=<MaxBackward1>)\n",
      "tensor(1.9794, grad_fn=<MaxBackward1>)\n",
      "tensor(1.9308, grad_fn=<MaxBackward1>)\n",
      "tensor(1.9381, grad_fn=<MaxBackward1>)\n",
      "tensor(1.9280, grad_fn=<MaxBackward1>)\n",
      "tensor(1.9566, grad_fn=<MaxBackward1>)\n",
      "tensor(1.9659, grad_fn=<MaxBackward1>)\n",
      "tensor(1.8722, grad_fn=<MaxBackward1>)\n",
      "tensor(1.9252, grad_fn=<MaxBackward1>)\n",
      "tensor(1.9532, grad_fn=<MaxBackward1>)\n",
      "tensor(1.9887, grad_fn=<MaxBackward1>)\n",
      "tensor(1.8892, grad_fn=<MaxBackward1>)\n",
      "tensor(1.9251, grad_fn=<MaxBackward1>)\n",
      "tensor(1.9214, grad_fn=<MaxBackward1>)\n",
      "tensor(1.9594, grad_fn=<MaxBackward1>)\n",
      "tensor(1.9828, grad_fn=<MaxBackward1>)\n",
      "tensor(1.9717, grad_fn=<MaxBackward1>)\n",
      "tensor(1.9660, grad_fn=<MaxBackward1>)\n",
      "tensor(1.8869, grad_fn=<MaxBackward1>)\n",
      "tensor(1.9245, grad_fn=<MaxBackward1>)\n",
      "tensor(1.8921, grad_fn=<MaxBackward1>)\n",
      "tensor(1.9446, grad_fn=<MaxBackward1>)\n",
      "tensor(1.9428, grad_fn=<MaxBackward1>)\n",
      "tensor(1.9550, grad_fn=<MaxBackward1>)\n",
      "tensor(1.9598, grad_fn=<MaxBackward1>)\n",
      "tensor(1.9648, grad_fn=<MaxBackward1>)\n",
      "tensor(1.8799, grad_fn=<MaxBackward1>)\n",
      "tensor(1.9447, grad_fn=<MaxBackward1>)\n",
      "tensor(1.9161, grad_fn=<MaxBackward1>)\n",
      "tensor(1.9071, grad_fn=<MaxBackward1>)\n",
      "tensor(1.9293, grad_fn=<MaxBackward1>)\n",
      "tensor(1.8541, grad_fn=<MaxBackward1>)\n",
      "tensor(1.8837, grad_fn=<MaxBackward1>)\n",
      "tensor(1.9491, grad_fn=<MaxBackward1>)\n",
      "tensor(1.9583, grad_fn=<MaxBackward1>)\n",
      "tensor(1.9460, grad_fn=<MaxBackward1>)\n",
      "tensor(1.9292, grad_fn=<MaxBackward1>)\n",
      "tensor(1.9291, grad_fn=<MaxBackward1>)\n",
      "tensor(1.9915, grad_fn=<MaxBackward1>)\n",
      "tensor(1.9580, grad_fn=<MaxBackward1>)\n",
      "tensor(1.9560, grad_fn=<MaxBackward1>)\n",
      "tensor(1.9816, grad_fn=<MaxBackward1>)\n",
      "tensor(1.9681, grad_fn=<MaxBackward1>)\n",
      "tensor(1.9436, grad_fn=<MaxBackward1>)\n",
      "tensor(1.9882, grad_fn=<MaxBackward1>)\n",
      "tensor(1.9616, grad_fn=<MaxBackward1>)\n",
      "tensor(1.9051, grad_fn=<MaxBackward1>)\n",
      "tensor(1.9395, grad_fn=<MaxBackward1>)\n",
      "tensor(1.8426, grad_fn=<MaxBackward1>)\n",
      "tensor(1.9241, grad_fn=<MaxBackward1>)\n",
      "tensor(1.9039, grad_fn=<MaxBackward1>)\n",
      "tensor(1.9421, grad_fn=<MaxBackward1>)\n",
      "tensor(1.8218, grad_fn=<MaxBackward1>)\n",
      "tensor(1.9676, grad_fn=<MaxBackward1>)\n"
     ]
    },
    {
     "name": "stdout",
     "output_type": "stream",
     "text": [
      "tensor(1.9687, grad_fn=<MaxBackward1>)\n",
      "tensor(1.9732, grad_fn=<MaxBackward1>)\n",
      "tensor(1.9341, grad_fn=<MaxBackward1>)\n",
      "tensor(1.9204, grad_fn=<MaxBackward1>)\n",
      "tensor(1.8943, grad_fn=<MaxBackward1>)\n",
      "tensor(1.9667, grad_fn=<MaxBackward1>)\n",
      "tensor(1.9247, grad_fn=<MaxBackward1>)\n",
      "tensor(1.9258, grad_fn=<MaxBackward1>)\n",
      "tensor(1.9698, grad_fn=<MaxBackward1>)\n",
      "tensor(1.9385, grad_fn=<MaxBackward1>)\n",
      "tensor(1.9464, grad_fn=<MaxBackward1>)\n",
      "tensor(1.9421, grad_fn=<MaxBackward1>)\n",
      "tensor(1.9536, grad_fn=<MaxBackward1>)\n",
      "tensor(1.8772, grad_fn=<MaxBackward1>)\n",
      "tensor(1.9234, grad_fn=<MaxBackward1>)\n",
      "tensor(1.9682, grad_fn=<MaxBackward1>)\n",
      "tensor(1.9766, grad_fn=<MaxBackward1>)\n",
      "tensor(1.9428, grad_fn=<MaxBackward1>)\n",
      "tensor(1.9641, grad_fn=<MaxBackward1>)\n",
      "tensor(1.9435, grad_fn=<MaxBackward1>)\n",
      "tensor(1.9247, grad_fn=<MaxBackward1>)\n",
      "tensor(1.9670, grad_fn=<MaxBackward1>)\n",
      "tensor(1.8396, grad_fn=<MaxBackward1>)\n",
      "tensor(1.9215, grad_fn=<MaxBackward1>)\n",
      "tensor(1.8820, grad_fn=<MaxBackward1>)\n",
      "tensor(1.9290, grad_fn=<MaxBackward1>)\n",
      "tensor(1.9175, grad_fn=<MaxBackward1>)\n",
      "tensor(1.9801, grad_fn=<MaxBackward1>)\n",
      "tensor(1.9463, grad_fn=<MaxBackward1>)\n",
      "tensor(1.9706, grad_fn=<MaxBackward1>)\n",
      "tensor(1.9671, grad_fn=<MaxBackward1>)\n",
      "tensor(1.9476, grad_fn=<MaxBackward1>)\n",
      "tensor(1.9645, grad_fn=<MaxBackward1>)\n",
      "tensor(1.9414, grad_fn=<MaxBackward1>)\n",
      "tensor(1.9649, grad_fn=<MaxBackward1>)\n",
      "tensor(1.9551, grad_fn=<MaxBackward1>)\n",
      "tensor(1.9478, grad_fn=<MaxBackward1>)\n",
      "tensor(1.9284, grad_fn=<MaxBackward1>)\n",
      "tensor(1.8914, grad_fn=<MaxBackward1>)\n",
      "tensor(1.9420, grad_fn=<MaxBackward1>)\n",
      "tensor(1.8923, grad_fn=<MaxBackward1>)\n",
      "tensor(1.9287, grad_fn=<MaxBackward1>)\n",
      "tensor(1.9555, grad_fn=<MaxBackward1>)\n",
      "tensor(1.9781, grad_fn=<MaxBackward1>)\n",
      "tensor(1.8832, grad_fn=<MaxBackward1>)\n",
      "tensor(1.9633, grad_fn=<MaxBackward1>)\n",
      "tensor(1.8579, grad_fn=<MaxBackward1>)\n",
      "tensor(1.8840, grad_fn=<MaxBackward1>)\n",
      "tensor(1.9368, grad_fn=<MaxBackward1>)\n",
      "tensor(1.9642, grad_fn=<MaxBackward1>)\n",
      "tensor(1.9237, grad_fn=<MaxBackward1>)\n",
      "tensor(1.9408, grad_fn=<MaxBackward1>)\n",
      "tensor(1.9131, grad_fn=<MaxBackward1>)\n",
      "tensor(1.9905, grad_fn=<MaxBackward1>)\n",
      "tensor(1.8844, grad_fn=<MaxBackward1>)\n",
      "tensor(1.9767, grad_fn=<MaxBackward1>)\n",
      "tensor(1.9580, grad_fn=<MaxBackward1>)\n",
      "tensor(1.9673, grad_fn=<MaxBackward1>)\n",
      "tensor(1.9289, grad_fn=<MaxBackward1>)\n",
      "tensor(1.9627, grad_fn=<MaxBackward1>)\n",
      "tensor(1.9092, grad_fn=<MaxBackward1>)\n",
      "tensor(1.9931, grad_fn=<MaxBackward1>)\n",
      "tensor(1.9495, grad_fn=<MaxBackward1>)\n",
      "tensor(1.9215, grad_fn=<MaxBackward1>)\n",
      "tensor(1.8658, grad_fn=<MaxBackward1>)\n",
      "tensor(1.8227, grad_fn=<MaxBackward1>)\n",
      "tensor(1.9797, grad_fn=<MaxBackward1>)\n",
      "tensor(1.9319, grad_fn=<MaxBackward1>)\n",
      "tensor(1.9158, grad_fn=<MaxBackward1>)\n",
      "tensor(1.9441, grad_fn=<MaxBackward1>)\n",
      "tensor(1.9892, grad_fn=<MaxBackward1>)\n",
      "tensor(1.9257, grad_fn=<MaxBackward1>)\n",
      "tensor(1.9163, grad_fn=<MaxBackward1>)\n",
      "tensor(1.9119, grad_fn=<MaxBackward1>)\n",
      "tensor(1.9626, grad_fn=<MaxBackward1>)\n",
      "tensor(1.9115, grad_fn=<MaxBackward1>)\n",
      "tensor(1.9315, grad_fn=<MaxBackward1>)\n",
      "tensor(1.8894, grad_fn=<MaxBackward1>)\n",
      "tensor(1.9865, grad_fn=<MaxBackward1>)\n",
      "tensor(1.9576, grad_fn=<MaxBackward1>)\n",
      "tensor(1.9516, grad_fn=<MaxBackward1>)\n",
      "tensor(1.8926, grad_fn=<MaxBackward1>)\n",
      "tensor(1.9604, grad_fn=<MaxBackward1>)\n",
      "tensor(1.9589, grad_fn=<MaxBackward1>)\n",
      "tensor(1.9118, grad_fn=<MaxBackward1>)\n",
      "tensor(1.9420, grad_fn=<MaxBackward1>)\n",
      "tensor(1.8646, grad_fn=<MaxBackward1>)\n",
      "tensor(1.9098, grad_fn=<MaxBackward1>)\n",
      "tensor(1.9499, grad_fn=<MaxBackward1>)\n",
      "tensor(1.9892, grad_fn=<MaxBackward1>)\n",
      "tensor(1.9082, grad_fn=<MaxBackward1>)\n",
      "tensor(1.8547, grad_fn=<MaxBackward1>)\n",
      "tensor(1.9084, grad_fn=<MaxBackward1>)\n",
      "tensor(1.9120, grad_fn=<MaxBackward1>)\n",
      "tensor(1.9585, grad_fn=<MaxBackward1>)\n",
      "tensor(1.9881, grad_fn=<MaxBackward1>)\n",
      "tensor(1.9614, grad_fn=<MaxBackward1>)\n",
      "tensor(1.9387, grad_fn=<MaxBackward1>)\n",
      "tensor(1.8864, grad_fn=<MaxBackward1>)\n",
      "tensor(1.9726, grad_fn=<MaxBackward1>)\n",
      "tensor(1.9011, grad_fn=<MaxBackward1>)\n",
      "tensor(1.8953, grad_fn=<MaxBackward1>)\n",
      "tensor(1.9102, grad_fn=<MaxBackward1>)\n",
      "tensor(1.9585, grad_fn=<MaxBackward1>)\n",
      "tensor(1.9275, grad_fn=<MaxBackward1>)\n",
      "tensor(1.9247, grad_fn=<MaxBackward1>)\n",
      "tensor(1.9642, grad_fn=<MaxBackward1>)\n",
      "tensor(1.9575, grad_fn=<MaxBackward1>)\n",
      "tensor(1.9358, grad_fn=<MaxBackward1>)\n",
      "tensor(1.9808, grad_fn=<MaxBackward1>)\n",
      "tensor(1.9798, grad_fn=<MaxBackward1>)\n",
      "tensor(1.8746, grad_fn=<MaxBackward1>)\n",
      "tensor(1.9536, grad_fn=<MaxBackward1>)\n",
      "tensor(1.9387, grad_fn=<MaxBackward1>)\n",
      "tensor(1.9118, grad_fn=<MaxBackward1>)\n",
      "tensor(1.8461, grad_fn=<MaxBackward1>)\n",
      "tensor(1.9529, grad_fn=<MaxBackward1>)\n",
      "tensor(1.9320, grad_fn=<MaxBackward1>)\n",
      "tensor(1.9659, grad_fn=<MaxBackward1>)\n",
      "tensor(1.9499, grad_fn=<MaxBackward1>)\n",
      "tensor(1.8638, grad_fn=<MaxBackward1>)\n",
      "tensor(1.9091, grad_fn=<MaxBackward1>)\n",
      "tensor(1.9475, grad_fn=<MaxBackward1>)\n",
      "tensor(1.9233, grad_fn=<MaxBackward1>)\n",
      "tensor(1.8788, grad_fn=<MaxBackward1>)\n",
      "tensor(1.9676, grad_fn=<MaxBackward1>)\n",
      "tensor(1.9607, grad_fn=<MaxBackward1>)\n",
      "tensor(1.9209, grad_fn=<MaxBackward1>)\n",
      "tensor(1.8716, grad_fn=<MaxBackward1>)\n",
      "tensor(1.9088, grad_fn=<MaxBackward1>)\n",
      "tensor(1.9761, grad_fn=<MaxBackward1>)\n",
      "tensor(1.9574, grad_fn=<MaxBackward1>)\n",
      "tensor(1.9147, grad_fn=<MaxBackward1>)\n",
      "tensor(1.9416, grad_fn=<MaxBackward1>)\n",
      "tensor(1.8791, grad_fn=<MaxBackward1>)\n",
      "tensor(1.9262, grad_fn=<MaxBackward1>)\n",
      "tensor(1.9624, grad_fn=<MaxBackward1>)\n",
      "tensor(1.9706, grad_fn=<MaxBackward1>)\n",
      "tensor(1.9529, grad_fn=<MaxBackward1>)\n",
      "tensor(1.8663, grad_fn=<MaxBackward1>)\n",
      "tensor(1.9103, grad_fn=<MaxBackward1>)\n",
      "tensor(1.8827, grad_fn=<MaxBackward1>)\n",
      "tensor(1.8959, grad_fn=<MaxBackward1>)\n",
      "tensor(1.8788, grad_fn=<MaxBackward1>)\n",
      "tensor(1.9812, grad_fn=<MaxBackward1>)\n",
      "tensor(1.9738, grad_fn=<MaxBackward1>)\n",
      "tensor(1.8929, grad_fn=<MaxBackward1>)\n",
      "tensor(1.9635, grad_fn=<MaxBackward1>)\n",
      "tensor(1.9594, grad_fn=<MaxBackward1>)\n",
      "tensor(1.9828, grad_fn=<MaxBackward1>)\n",
      "tensor(1.9004, grad_fn=<MaxBackward1>)\n",
      "tensor(1.9018, grad_fn=<MaxBackward1>)\n",
      "tensor(1.9209, grad_fn=<MaxBackward1>)\n",
      "tensor(1.8803, grad_fn=<MaxBackward1>)\n",
      "tensor(1.9070, grad_fn=<MaxBackward1>)\n",
      "tensor(1.9537, grad_fn=<MaxBackward1>)\n",
      "tensor(1.9315, grad_fn=<MaxBackward1>)\n",
      "tensor(1.9590, grad_fn=<MaxBackward1>)\n",
      "tensor(1.9698, grad_fn=<MaxBackward1>)\n",
      "tensor(1.9190, grad_fn=<MaxBackward1>)\n",
      "tensor(1.9670, grad_fn=<MaxBackward1>)\n",
      "tensor(1.9496, grad_fn=<MaxBackward1>)\n",
      "tensor(1.9189, grad_fn=<MaxBackward1>)\n",
      "tensor(1.9342, grad_fn=<MaxBackward1>)\n",
      "tensor(1.9412, grad_fn=<MaxBackward1>)\n",
      "tensor(1.9588, grad_fn=<MaxBackward1>)\n",
      "tensor(1.9025, grad_fn=<MaxBackward1>)\n",
      "tensor(1.9602, grad_fn=<MaxBackward1>)\n",
      "tensor(1.9737, grad_fn=<MaxBackward1>)\n",
      "tensor(1.9156, grad_fn=<MaxBackward1>)\n",
      "tensor(1.9250, grad_fn=<MaxBackward1>)\n",
      "tensor(1.8994, grad_fn=<MaxBackward1>)\n",
      "tensor(1.9711, grad_fn=<MaxBackward1>)\n",
      "tensor(1.9026, grad_fn=<MaxBackward1>)\n",
      "tensor(1.9187, grad_fn=<MaxBackward1>)\n",
      "tensor(1.8841, grad_fn=<MaxBackward1>)\n",
      "tensor(1.8333, grad_fn=<MaxBackward1>)\n",
      "tensor(1.9445, grad_fn=<MaxBackward1>)\n",
      "tensor(1.9250, grad_fn=<MaxBackward1>)\n",
      "tensor(1.9789, grad_fn=<MaxBackward1>)\n",
      "tensor(1.9410, grad_fn=<MaxBackward1>)\n",
      "tensor(1.9328, grad_fn=<MaxBackward1>)\n",
      "tensor(1.8677, grad_fn=<MaxBackward1>)\n",
      "tensor(1.9545, grad_fn=<MaxBackward1>)\n",
      "tensor(1.9576, grad_fn=<MaxBackward1>)\n",
      "tensor(1.9278, grad_fn=<MaxBackward1>)\n",
      "tensor(1.9825, grad_fn=<MaxBackward1>)\n",
      "tensor(1.9353, grad_fn=<MaxBackward1>)\n",
      "tensor(1.9042, grad_fn=<MaxBackward1>)\n",
      "tensor(1.9749, grad_fn=<MaxBackward1>)\n",
      "tensor(1.9188, grad_fn=<MaxBackward1>)\n",
      "tensor(1.8784, grad_fn=<MaxBackward1>)\n",
      "tensor(1.9381, grad_fn=<MaxBackward1>)\n",
      "tensor(1.8951, grad_fn=<MaxBackward1>)\n",
      "tensor(1.9096, grad_fn=<MaxBackward1>)\n",
      "tensor(1.9181, grad_fn=<MaxBackward1>)\n",
      "tensor(1.9362, grad_fn=<MaxBackward1>)\n",
      "tensor(1.9170, grad_fn=<MaxBackward1>)\n",
      "tensor(1.9564, grad_fn=<MaxBackward1>)\n",
      "tensor(1.9929, grad_fn=<MaxBackward1>)\n",
      "tensor(1.8713, grad_fn=<MaxBackward1>)\n",
      "tensor(1.9890, grad_fn=<MaxBackward1>)\n",
      "tensor(1.9048, grad_fn=<MaxBackward1>)\n",
      "tensor(1.9883, grad_fn=<MaxBackward1>)\n",
      "tensor(1.9589, grad_fn=<MaxBackward1>)\n",
      "tensor(1.9033, grad_fn=<MaxBackward1>)\n",
      "tensor(1.9410, grad_fn=<MaxBackward1>)\n",
      "tensor(1.9411, grad_fn=<MaxBackward1>)\n",
      "tensor(1.9419, grad_fn=<MaxBackward1>)\n",
      "tensor(1.9344, grad_fn=<MaxBackward1>)\n",
      "tensor(1.9591, grad_fn=<MaxBackward1>)\n",
      "tensor(1.9424, grad_fn=<MaxBackward1>)\n",
      "tensor(1.9652, grad_fn=<MaxBackward1>)\n",
      "tensor(1.9350, grad_fn=<MaxBackward1>)\n",
      "tensor(1.9325, grad_fn=<MaxBackward1>)\n",
      "tensor(1.9747, grad_fn=<MaxBackward1>)\n",
      "tensor(1.9402, grad_fn=<MaxBackward1>)\n",
      "tensor(1.9746, grad_fn=<MaxBackward1>)\n",
      "tensor(1.9887, grad_fn=<MaxBackward1>)\n",
      "tensor(1.9428, grad_fn=<MaxBackward1>)\n",
      "tensor(1.9589, grad_fn=<MaxBackward1>)\n",
      "tensor(1.9358, grad_fn=<MaxBackward1>)\n",
      "tensor(1.9241, grad_fn=<MaxBackward1>)\n",
      "tensor(1.9244, grad_fn=<MaxBackward1>)\n",
      "tensor(1.9032, grad_fn=<MaxBackward1>)\n",
      "tensor(1.8987, grad_fn=<MaxBackward1>)\n",
      "tensor(1.9006, grad_fn=<MaxBackward1>)\n",
      "tensor(1.9072, grad_fn=<MaxBackward1>)\n",
      "tensor(1.9790, grad_fn=<MaxBackward1>)\n",
      "tensor(1.9254, grad_fn=<MaxBackward1>)\n",
      "tensor(1.9159, grad_fn=<MaxBackward1>)\n",
      "tensor(1.9397, grad_fn=<MaxBackward1>)\n",
      "tensor(1.9591, grad_fn=<MaxBackward1>)\n",
      "tensor(1.9658, grad_fn=<MaxBackward1>)\n",
      "tensor(1.9797, grad_fn=<MaxBackward1>)\n",
      "tensor(1.9747, grad_fn=<MaxBackward1>)\n",
      "tensor(1.8856, grad_fn=<MaxBackward1>)\n",
      "tensor(1.9566, grad_fn=<MaxBackward1>)\n",
      "tensor(1.9500, grad_fn=<MaxBackward1>)\n",
      "tensor(1.9020, grad_fn=<MaxBackward1>)\n",
      "tensor(1.9611, grad_fn=<MaxBackward1>)\n",
      "tensor(1.9289, grad_fn=<MaxBackward1>)\n",
      "tensor(1.8987, grad_fn=<MaxBackward1>)\n",
      "tensor(1.9592, grad_fn=<MaxBackward1>)\n",
      "tensor(1.9809, grad_fn=<MaxBackward1>)\n",
      "tensor(1.9454, grad_fn=<MaxBackward1>)\n",
      "tensor(1.9743, grad_fn=<MaxBackward1>)\n",
      "tensor(1.9107, grad_fn=<MaxBackward1>)\n",
      "tensor(1.9717, grad_fn=<MaxBackward1>)\n",
      "tensor(1.8891, grad_fn=<MaxBackward1>)\n",
      "tensor(1.8624, grad_fn=<MaxBackward1>)\n",
      "tensor(1.9721, grad_fn=<MaxBackward1>)\n",
      "tensor(1.9232, grad_fn=<MaxBackward1>)\n",
      "tensor(1.8897, grad_fn=<MaxBackward1>)\n",
      "tensor(1.9625, grad_fn=<MaxBackward1>)\n",
      "tensor(1.9723, grad_fn=<MaxBackward1>)\n",
      "tensor(1.9355, grad_fn=<MaxBackward1>)\n",
      "tensor(1.9352, grad_fn=<MaxBackward1>)\n",
      "tensor(1.9548, grad_fn=<MaxBackward1>)\n",
      "tensor(1.9672, grad_fn=<MaxBackward1>)\n",
      "tensor(1.9820, grad_fn=<MaxBackward1>)\n",
      "tensor(1.9297, grad_fn=<MaxBackward1>)\n",
      "tensor(1.9129, grad_fn=<MaxBackward1>)\n",
      "tensor(1.9279, grad_fn=<MaxBackward1>)\n",
      "tensor(1.8929, grad_fn=<MaxBackward1>)\n",
      "tensor(1.8970, grad_fn=<MaxBackward1>)\n",
      "tensor(1.9747, grad_fn=<MaxBackward1>)\n",
      "tensor(1.9496, grad_fn=<MaxBackward1>)\n",
      "tensor(1.9016, grad_fn=<MaxBackward1>)\n",
      "tensor(1.9068, grad_fn=<MaxBackward1>)\n",
      "tensor(1.9701, grad_fn=<MaxBackward1>)\n",
      "tensor(1.8600, grad_fn=<MaxBackward1>)\n",
      "tensor(1.9460, grad_fn=<MaxBackward1>)\n",
      "tensor(1.9314, grad_fn=<MaxBackward1>)\n",
      "tensor(1.9335, grad_fn=<MaxBackward1>)\n",
      "tensor(1.9481, grad_fn=<MaxBackward1>)\n",
      "tensor(1.9111, grad_fn=<MaxBackward1>)\n",
      "tensor(1.9560, grad_fn=<MaxBackward1>)\n",
      "tensor(1.9097, grad_fn=<MaxBackward1>)\n",
      "tensor(1.9529, grad_fn=<MaxBackward1>)\n",
      "tensor(1.9500, grad_fn=<MaxBackward1>)\n",
      "tensor(1.9643, grad_fn=<MaxBackward1>)\n",
      "tensor(1.9717, grad_fn=<MaxBackward1>)\n",
      "tensor(1.9769, grad_fn=<MaxBackward1>)\n",
      "tensor(1.9696, grad_fn=<MaxBackward1>)\n",
      "tensor(1.8930, grad_fn=<MaxBackward1>)\n",
      "tensor(1.9056, grad_fn=<MaxBackward1>)\n",
      "tensor(1.9720, grad_fn=<MaxBackward1>)\n",
      "tensor(1.9162, grad_fn=<MaxBackward1>)\n",
      "tensor(1.8770, grad_fn=<MaxBackward1>)\n",
      "tensor(1.9678, grad_fn=<MaxBackward1>)\n",
      "tensor(1.9731, grad_fn=<MaxBackward1>)\n",
      "tensor(1.9286, grad_fn=<MaxBackward1>)\n",
      "tensor(1.9769, grad_fn=<MaxBackward1>)\n",
      "tensor(1.9501, grad_fn=<MaxBackward1>)\n",
      "tensor(1.9873, grad_fn=<MaxBackward1>)\n",
      "tensor(1.9665, grad_fn=<MaxBackward1>)\n",
      "tensor(1.8801, grad_fn=<MaxBackward1>)\n",
      "tensor(1.9129, grad_fn=<MaxBackward1>)\n",
      "tensor(1.9729, grad_fn=<MaxBackward1>)\n",
      "tensor(1.9949, grad_fn=<MaxBackward1>)\n",
      "tensor(1.9223, grad_fn=<MaxBackward1>)\n",
      "tensor(1.9708, grad_fn=<MaxBackward1>)\n",
      "tensor(1.9760, grad_fn=<MaxBackward1>)\n",
      "tensor(1.9244, grad_fn=<MaxBackward1>)\n",
      "tensor(1.9710, grad_fn=<MaxBackward1>)\n",
      "tensor(1.9163, grad_fn=<MaxBackward1>)\n",
      "tensor(1.9406, grad_fn=<MaxBackward1>)\n",
      "tensor(1.9500, grad_fn=<MaxBackward1>)\n",
      "tensor(1.9156, grad_fn=<MaxBackward1>)\n",
      "tensor(1.9295, grad_fn=<MaxBackward1>)\n",
      "tensor(1.9399, grad_fn=<MaxBackward1>)\n",
      "tensor(1.9911, grad_fn=<MaxBackward1>)\n",
      "tensor(1.9049, grad_fn=<MaxBackward1>)\n",
      "tensor(1.8941, grad_fn=<MaxBackward1>)\n",
      "tensor(1.9323, grad_fn=<MaxBackward1>)\n",
      "tensor(1.8322, grad_fn=<MaxBackward1>)\n",
      "tensor(1.8772, grad_fn=<MaxBackward1>)\n",
      "tensor(1.9701, grad_fn=<MaxBackward1>)\n",
      "tensor(1.9117, grad_fn=<MaxBackward1>)\n",
      "tensor(1.9837, grad_fn=<MaxBackward1>)\n",
      "tensor(1.9481, grad_fn=<MaxBackward1>)\n",
      "tensor(1.9183, grad_fn=<MaxBackward1>)\n",
      "tensor(1.9496, grad_fn=<MaxBackward1>)\n",
      "tensor(1.9595, grad_fn=<MaxBackward1>)\n",
      "tensor(1.9371, grad_fn=<MaxBackward1>)\n",
      "tensor(1.9303, grad_fn=<MaxBackward1>)\n",
      "tensor(1.9615, grad_fn=<MaxBackward1>)\n",
      "tensor(1.9569, grad_fn=<MaxBackward1>)\n",
      "tensor(1.9550, grad_fn=<MaxBackward1>)\n",
      "tensor(1.9330, grad_fn=<MaxBackward1>)\n",
      "tensor(1.9644, grad_fn=<MaxBackward1>)\n",
      "tensor(1.9236, grad_fn=<MaxBackward1>)\n",
      "tensor(1.9338, grad_fn=<MaxBackward1>)\n",
      "tensor(1.9796, grad_fn=<MaxBackward1>)\n",
      "tensor(1.9579, grad_fn=<MaxBackward1>)\n",
      "tensor(1.9017, grad_fn=<MaxBackward1>)\n",
      "tensor(1.9622, grad_fn=<MaxBackward1>)\n",
      "tensor(1.9052, grad_fn=<MaxBackward1>)\n",
      "tensor(1.9490, grad_fn=<MaxBackward1>)\n",
      "tensor(1.9499, grad_fn=<MaxBackward1>)\n",
      "tensor(1.9067, grad_fn=<MaxBackward1>)\n",
      "tensor(1.9285, grad_fn=<MaxBackward1>)\n",
      "tensor(1.9132, grad_fn=<MaxBackward1>)\n",
      "tensor(1.9129, grad_fn=<MaxBackward1>)\n",
      "tensor(1.9580, grad_fn=<MaxBackward1>)\n",
      "tensor(1.9860, grad_fn=<MaxBackward1>)\n",
      "tensor(1.9558, grad_fn=<MaxBackward1>)\n",
      "tensor(1.9387, grad_fn=<MaxBackward1>)\n",
      "tensor(1.9036, grad_fn=<MaxBackward1>)\n",
      "tensor(1.8849, grad_fn=<MaxBackward1>)\n",
      "tensor(1.9103, grad_fn=<MaxBackward1>)\n",
      "tensor(1.9734, grad_fn=<MaxBackward1>)\n",
      "tensor(1.8923, grad_fn=<MaxBackward1>)\n",
      "tensor(1.9400, grad_fn=<MaxBackward1>)\n",
      "tensor(1.9162, grad_fn=<MaxBackward1>)\n",
      "tensor(1.9820, grad_fn=<MaxBackward1>)\n",
      "tensor(1.9535, grad_fn=<MaxBackward1>)\n",
      "tensor(1.9189, grad_fn=<MaxBackward1>)\n",
      "tensor(1.9476, grad_fn=<MaxBackward1>)\n",
      "tensor(1.9331, grad_fn=<MaxBackward1>)\n",
      "tensor(1.8768, grad_fn=<MaxBackward1>)\n",
      "tensor(1.9815, grad_fn=<MaxBackward1>)\n",
      "tensor(1.9179, grad_fn=<MaxBackward1>)\n",
      "tensor(1.9252, grad_fn=<MaxBackward1>)\n",
      "tensor(1.9062, grad_fn=<MaxBackward1>)\n",
      "tensor(1.8966, grad_fn=<MaxBackward1>)\n",
      "tensor(1.9869, grad_fn=<MaxBackward1>)\n",
      "tensor(1.9493, grad_fn=<MaxBackward1>)\n",
      "tensor(1.8631, grad_fn=<MaxBackward1>)\n",
      "tensor(1.9196, grad_fn=<MaxBackward1>)\n",
      "tensor(1.9487, grad_fn=<MaxBackward1>)\n",
      "tensor(1.8883, grad_fn=<MaxBackward1>)\n",
      "tensor(1.9068, grad_fn=<MaxBackward1>)\n",
      "tensor(1.9228, grad_fn=<MaxBackward1>)\n",
      "tensor(1.9933, grad_fn=<MaxBackward1>)\n",
      "tensor(1.9306, grad_fn=<MaxBackward1>)\n",
      "tensor(1.9095, grad_fn=<MaxBackward1>)\n",
      "tensor(1.9276, grad_fn=<MaxBackward1>)\n",
      "tensor(1.9511, grad_fn=<MaxBackward1>)\n",
      "tensor(1.8669, grad_fn=<MaxBackward1>)\n",
      "tensor(1.9290, grad_fn=<MaxBackward1>)\n",
      "tensor(1.9390, grad_fn=<MaxBackward1>)\n",
      "tensor(1.9699, grad_fn=<MaxBackward1>)\n",
      "tensor(1.9264, grad_fn=<MaxBackward1>)\n",
      "tensor(1.8854, grad_fn=<MaxBackward1>)\n",
      "tensor(1.9409, grad_fn=<MaxBackward1>)\n",
      "tensor(1.8864, grad_fn=<MaxBackward1>)\n",
      "tensor(1.9518, grad_fn=<MaxBackward1>)\n",
      "tensor(1.9574, grad_fn=<MaxBackward1>)\n",
      "tensor(1.9517, grad_fn=<MaxBackward1>)\n",
      "tensor(1.9369, grad_fn=<MaxBackward1>)\n",
      "tensor(1.9244, grad_fn=<MaxBackward1>)\n",
      "tensor(1.9693, grad_fn=<MaxBackward1>)\n",
      "tensor(1.9316, grad_fn=<MaxBackward1>)\n",
      "tensor(1.8965, grad_fn=<MaxBackward1>)\n",
      "tensor(1.9406, grad_fn=<MaxBackward1>)\n",
      "tensor(1.9496, grad_fn=<MaxBackward1>)\n",
      "tensor(1.9322, grad_fn=<MaxBackward1>)\n",
      "tensor(1.9285, grad_fn=<MaxBackward1>)\n",
      "tensor(1.9914, grad_fn=<MaxBackward1>)\n",
      "tensor(1.9496, grad_fn=<MaxBackward1>)\n",
      "tensor(1.8712, grad_fn=<MaxBackward1>)\n",
      "tensor(1.9381, grad_fn=<MaxBackward1>)\n",
      "tensor(1.9250, grad_fn=<MaxBackward1>)\n",
      "tensor(1.9978, grad_fn=<MaxBackward1>)\n",
      "tensor(1.8174, grad_fn=<MaxBackward1>)\n",
      "tensor(1.8584, grad_fn=<MaxBackward1>)\n",
      "tensor(1.9641, grad_fn=<MaxBackward1>)\n",
      "tensor(1.9754, grad_fn=<MaxBackward1>)\n",
      "tensor(1.9596, grad_fn=<MaxBackward1>)\n",
      "tensor(1.9491, grad_fn=<MaxBackward1>)\n",
      "tensor(1.9595, grad_fn=<MaxBackward1>)\n",
      "tensor(1.9389, grad_fn=<MaxBackward1>)\n",
      "tensor(1.8035, grad_fn=<MaxBackward1>)\n",
      "tensor(1.9806, grad_fn=<MaxBackward1>)\n",
      "tensor(1.8845, grad_fn=<MaxBackward1>)\n",
      "tensor(1.9755, grad_fn=<MaxBackward1>)\n",
      "tensor(1.8340, grad_fn=<MaxBackward1>)\n",
      "tensor(1.9594, grad_fn=<MaxBackward1>)\n"
     ]
    },
    {
     "name": "stdout",
     "output_type": "stream",
     "text": [
      "tensor(1.8889, grad_fn=<MaxBackward1>)\n",
      "tensor(1.9600, grad_fn=<MaxBackward1>)\n",
      "tensor(1.9347, grad_fn=<MaxBackward1>)\n",
      "tensor(1.9554, grad_fn=<MaxBackward1>)\n",
      "tensor(1.9253, grad_fn=<MaxBackward1>)\n",
      "tensor(1.9191, grad_fn=<MaxBackward1>)\n",
      "tensor(1.9384, grad_fn=<MaxBackward1>)\n",
      "tensor(1.9236, grad_fn=<MaxBackward1>)\n",
      "tensor(1.9366, grad_fn=<MaxBackward1>)\n",
      "tensor(1.9326, grad_fn=<MaxBackward1>)\n",
      "tensor(1.9166, grad_fn=<MaxBackward1>)\n",
      "tensor(1.9175, grad_fn=<MaxBackward1>)\n",
      "tensor(1.9231, grad_fn=<MaxBackward1>)\n",
      "tensor(1.8868, grad_fn=<MaxBackward1>)\n",
      "tensor(1.8981, grad_fn=<MaxBackward1>)\n",
      "tensor(1.9366, grad_fn=<MaxBackward1>)\n",
      "tensor(1.9697, grad_fn=<MaxBackward1>)\n",
      "tensor(1.9191, grad_fn=<MaxBackward1>)\n",
      "tensor(1.9389, grad_fn=<MaxBackward1>)\n",
      "tensor(1.9394, grad_fn=<MaxBackward1>)\n",
      "tensor(1.9186, grad_fn=<MaxBackward1>)\n",
      "tensor(1.9353, grad_fn=<MaxBackward1>)\n",
      "tensor(1.8424, grad_fn=<MaxBackward1>)\n",
      "tensor(1.9880, grad_fn=<MaxBackward1>)\n",
      "tensor(1.9930, grad_fn=<MaxBackward1>)\n",
      "tensor(1.9369, grad_fn=<MaxBackward1>)\n",
      "tensor(1.9149, grad_fn=<MaxBackward1>)\n",
      "tensor(1.9045, grad_fn=<MaxBackward1>)\n",
      "tensor(1.9443, grad_fn=<MaxBackward1>)\n",
      "tensor(1.9397, grad_fn=<MaxBackward1>)\n",
      "tensor(1.9336, grad_fn=<MaxBackward1>)\n",
      "tensor(1.9190, grad_fn=<MaxBackward1>)\n",
      "tensor(1.9459, grad_fn=<MaxBackward1>)\n",
      "tensor(1.9382, grad_fn=<MaxBackward1>)\n",
      "tensor(1.9571, grad_fn=<MaxBackward1>)\n",
      "tensor(1.9881, grad_fn=<MaxBackward1>)\n",
      "tensor(1.9217, grad_fn=<MaxBackward1>)\n",
      "tensor(1.9552, grad_fn=<MaxBackward1>)\n",
      "tensor(1.9184, grad_fn=<MaxBackward1>)\n",
      "tensor(1.8577, grad_fn=<MaxBackward1>)\n",
      "tensor(1.9403, grad_fn=<MaxBackward1>)\n",
      "tensor(1.9357, grad_fn=<MaxBackward1>)\n",
      "tensor(1.9550, grad_fn=<MaxBackward1>)\n",
      "tensor(1.8973, grad_fn=<MaxBackward1>)\n",
      "tensor(1.9313, grad_fn=<MaxBackward1>)\n",
      "tensor(1.9330, grad_fn=<MaxBackward1>)\n",
      "tensor(1.9619, grad_fn=<MaxBackward1>)\n",
      "tensor(1.9396, grad_fn=<MaxBackward1>)\n",
      "tensor(1.9412, grad_fn=<MaxBackward1>)\n",
      "tensor(1.9105, grad_fn=<MaxBackward1>)\n",
      "tensor(1.9405, grad_fn=<MaxBackward1>)\n",
      "tensor(1.9057, grad_fn=<MaxBackward1>)\n",
      "tensor(1.9050, grad_fn=<MaxBackward1>)\n",
      "tensor(1.9420, grad_fn=<MaxBackward1>)\n",
      "tensor(1.8692, grad_fn=<MaxBackward1>)\n",
      "tensor(1.9926, grad_fn=<MaxBackward1>)\n",
      "tensor(1.9101, grad_fn=<MaxBackward1>)\n",
      "tensor(1.9104, grad_fn=<MaxBackward1>)\n",
      "tensor(1.9176, grad_fn=<MaxBackward1>)\n",
      "tensor(1.9699, grad_fn=<MaxBackward1>)\n",
      "tensor(1.9385, grad_fn=<MaxBackward1>)\n",
      "tensor(1.9434, grad_fn=<MaxBackward1>)\n",
      "tensor(1.8764, grad_fn=<MaxBackward1>)\n",
      "tensor(1.9691, grad_fn=<MaxBackward1>)\n",
      "tensor(1.9334, grad_fn=<MaxBackward1>)\n",
      "tensor(1.9175, grad_fn=<MaxBackward1>)\n",
      "tensor(1.9070, grad_fn=<MaxBackward1>)\n",
      "tensor(1.9222, grad_fn=<MaxBackward1>)\n",
      "tensor(1.9167, grad_fn=<MaxBackward1>)\n",
      "tensor(1.8882, grad_fn=<MaxBackward1>)\n",
      "tensor(1.9036, grad_fn=<MaxBackward1>)\n",
      "tensor(1.9647, grad_fn=<MaxBackward1>)\n",
      "tensor(1.8840, grad_fn=<MaxBackward1>)\n",
      "tensor(1.9191, grad_fn=<MaxBackward1>)\n",
      "tensor(1.9185, grad_fn=<MaxBackward1>)\n",
      "tensor(1.9464, grad_fn=<MaxBackward1>)\n",
      "tensor(1.9649, grad_fn=<MaxBackward1>)\n",
      "tensor(1.9067, grad_fn=<MaxBackward1>)\n",
      "tensor(1.8904, grad_fn=<MaxBackward1>)\n",
      "tensor(1.9610, grad_fn=<MaxBackward1>)\n",
      "tensor(1.9572, grad_fn=<MaxBackward1>)\n",
      "tensor(1.9220, grad_fn=<MaxBackward1>)\n",
      "tensor(1.9399, grad_fn=<MaxBackward1>)\n",
      "tensor(1.9629, grad_fn=<MaxBackward1>)\n",
      "tensor(1.9474, grad_fn=<MaxBackward1>)\n",
      "tensor(1.9767, grad_fn=<MaxBackward1>)\n",
      "tensor(1.9062, grad_fn=<MaxBackward1>)\n",
      "tensor(1.8285, grad_fn=<MaxBackward1>)\n",
      "tensor(1.9253, grad_fn=<MaxBackward1>)\n",
      "tensor(1.8617, grad_fn=<MaxBackward1>)\n",
      "tensor(1.9451, grad_fn=<MaxBackward1>)\n",
      "tensor(1.9576, grad_fn=<MaxBackward1>)\n",
      "tensor(1.9497, grad_fn=<MaxBackward1>)\n",
      "tensor(1.8940, grad_fn=<MaxBackward1>)\n",
      "tensor(1.9569, grad_fn=<MaxBackward1>)\n",
      "tensor(1.9399, grad_fn=<MaxBackward1>)\n",
      "tensor(1.8757, grad_fn=<MaxBackward1>)\n",
      "tensor(1.9658, grad_fn=<MaxBackward1>)\n",
      "tensor(1.9337, grad_fn=<MaxBackward1>)\n",
      "tensor(1.9561, grad_fn=<MaxBackward1>)\n",
      "tensor(1.9428, grad_fn=<MaxBackward1>)\n",
      "tensor(1.9035, grad_fn=<MaxBackward1>)\n",
      "tensor(1.9233, grad_fn=<MaxBackward1>)\n",
      "tensor(1.9648, grad_fn=<MaxBackward1>)\n",
      "tensor(1.9045, grad_fn=<MaxBackward1>)\n",
      "tensor(1.9030, grad_fn=<MaxBackward1>)\n",
      "tensor(1.7968, grad_fn=<MaxBackward1>)\n",
      "tensor(1.9549, grad_fn=<MaxBackward1>)\n",
      "tensor(1.9744, grad_fn=<MaxBackward1>)\n",
      "tensor(1.9308, grad_fn=<MaxBackward1>)\n",
      "tensor(1.9461, grad_fn=<MaxBackward1>)\n",
      "tensor(1.9268, grad_fn=<MaxBackward1>)\n",
      "tensor(1.9070, grad_fn=<MaxBackward1>)\n",
      "tensor(1.9126, grad_fn=<MaxBackward1>)\n",
      "tensor(1.9345, grad_fn=<MaxBackward1>)\n",
      "tensor(1.9168, grad_fn=<MaxBackward1>)\n",
      "tensor(1.9532, grad_fn=<MaxBackward1>)\n",
      "tensor(1.9316, grad_fn=<MaxBackward1>)\n",
      "tensor(1.9673, grad_fn=<MaxBackward1>)\n",
      "tensor(1.9240, grad_fn=<MaxBackward1>)\n",
      "tensor(1.9019, grad_fn=<MaxBackward1>)\n",
      "tensor(1.9272, grad_fn=<MaxBackward1>)\n",
      "tensor(1.9554, grad_fn=<MaxBackward1>)\n",
      "tensor(1.9023, grad_fn=<MaxBackward1>)\n",
      "tensor(1.9339, grad_fn=<MaxBackward1>)\n",
      "tensor(1.9472, grad_fn=<MaxBackward1>)\n",
      "tensor(1.9188, grad_fn=<MaxBackward1>)\n",
      "tensor(1.9388, grad_fn=<MaxBackward1>)\n",
      "tensor(1.8904, grad_fn=<MaxBackward1>)\n",
      "tensor(1.8954, grad_fn=<MaxBackward1>)\n",
      "tensor(1.9641, grad_fn=<MaxBackward1>)\n",
      "tensor(1.9118, grad_fn=<MaxBackward1>)\n",
      "tensor(1.9179, grad_fn=<MaxBackward1>)\n",
      "tensor(1.9129, grad_fn=<MaxBackward1>)\n",
      "tensor(1.9106, grad_fn=<MaxBackward1>)\n",
      "tensor(1.9550, grad_fn=<MaxBackward1>)\n",
      "tensor(1.9450, grad_fn=<MaxBackward1>)\n",
      "tensor(1.8502, grad_fn=<MaxBackward1>)\n",
      "tensor(1.9063, grad_fn=<MaxBackward1>)\n",
      "tensor(1.9333, grad_fn=<MaxBackward1>)\n",
      "tensor(1.9635, grad_fn=<MaxBackward1>)\n",
      "tensor(1.9582, grad_fn=<MaxBackward1>)\n",
      "tensor(1.9566, grad_fn=<MaxBackward1>)\n",
      "tensor(1.9454, grad_fn=<MaxBackward1>)\n",
      "tensor(1.9693, grad_fn=<MaxBackward1>)\n",
      "tensor(1.9327, grad_fn=<MaxBackward1>)\n",
      "tensor(1.9378, grad_fn=<MaxBackward1>)\n",
      "tensor(1.9426, grad_fn=<MaxBackward1>)\n",
      "tensor(1.9248, grad_fn=<MaxBackward1>)\n",
      "tensor(1.8872, grad_fn=<MaxBackward1>)\n",
      "tensor(1.8746, grad_fn=<MaxBackward1>)\n",
      "tensor(1.9803, grad_fn=<MaxBackward1>)\n",
      "tensor(1.8282, grad_fn=<MaxBackward1>)\n",
      "tensor(1.9587, grad_fn=<MaxBackward1>)\n",
      "tensor(1.9626, grad_fn=<MaxBackward1>)\n",
      "tensor(1.8892, grad_fn=<MaxBackward1>)\n",
      "tensor(1.9184, grad_fn=<MaxBackward1>)\n",
      "tensor(1.9828, grad_fn=<MaxBackward1>)\n",
      "tensor(1.9100, grad_fn=<MaxBackward1>)\n",
      "tensor(1.9941, grad_fn=<MaxBackward1>)\n"
     ]
    }
   ],
   "source": [
    "for i in range(1000):\n",
    "    a = torch.rand((189,4), requires_grad=True)\n",
    "    b = torch.rand(189,4)\n",
    "    c = a[:, :2] + b[:, :2] \n",
    "    print(torch.max(c))"
   ]
  },
  {
   "cell_type": "code",
   "execution_count": 40,
   "metadata": {},
   "outputs": [
    {
     "data": {
      "text/plain": [
       "True"
      ]
     },
     "execution_count": 40,
     "metadata": {},
     "output_type": "execute_result"
    }
   ],
   "source": [
    "c.requires_grad"
   ]
  },
  {
   "cell_type": "code",
   "execution_count": 41,
   "metadata": {},
   "outputs": [
    {
     "data": {
      "text/plain": [
       "tensor(1.8850, grad_fn=<MaxBackward1>)"
      ]
     },
     "execution_count": 41,
     "metadata": {},
     "output_type": "execute_result"
    }
   ],
   "source": [
    "torch.max(c)"
   ]
  },
  {
   "cell_type": "code",
   "execution_count": 48,
   "metadata": {},
   "outputs": [
    {
     "name": "stdout",
     "output_type": "stream",
     "text": [
      "torch.float32\n"
     ]
    }
   ],
   "source": [
    "print(c.dtype)"
   ]
  },
  {
   "cell_type": "code",
   "execution_count": 52,
   "metadata": {},
   "outputs": [
    {
     "ename": "TypeError",
     "evalue": "to() received an invalid combination of arguments - got (torch.tensortype), but expected one of:\n * (torch.device device, torch.dtype dtype, bool non_blocking, bool copy)\n * (torch.dtype dtype, bool non_blocking, bool copy)\n * (Tensor tensor, bool non_blocking, bool copy)\n",
     "output_type": "error",
     "traceback": [
      "\u001b[1;31m---------------------------------------------------------------------------\u001b[0m",
      "\u001b[1;31mTypeError\u001b[0m                                 Traceback (most recent call last)",
      "\u001b[1;32m<ipython-input-52-2b89f79a33c8>\u001b[0m in \u001b[0;36m<module>\u001b[1;34m\u001b[0m\n\u001b[1;32m----> 1\u001b[1;33m \u001b[0mc\u001b[0m\u001b[1;33m.\u001b[0m\u001b[0mto\u001b[0m\u001b[1;33m(\u001b[0m\u001b[0mtorch\u001b[0m\u001b[1;33m.\u001b[0m\u001b[0mFloatTensor\u001b[0m\u001b[1;33m)\u001b[0m\u001b[1;33m\u001b[0m\u001b[1;33m\u001b[0m\u001b[0m\n\u001b[0m",
      "\u001b[1;31mTypeError\u001b[0m: to() received an invalid combination of arguments - got (torch.tensortype), but expected one of:\n * (torch.device device, torch.dtype dtype, bool non_blocking, bool copy)\n * (torch.dtype dtype, bool non_blocking, bool copy)\n * (Tensor tensor, bool non_blocking, bool copy)\n"
     ]
    }
   ],
   "source": [
    "c.to(torch.FloatTensor)"
   ]
  },
  {
   "cell_type": "code",
   "execution_count": 54,
   "metadata": {},
   "outputs": [
    {
     "ename": "AttributeError",
     "evalue": "attribute 'dtype' of 'torch._C._TensorBase' objects is not writable",
     "output_type": "error",
     "traceback": [
      "\u001b[1;31m---------------------------------------------------------------------------\u001b[0m",
      "\u001b[1;31mAttributeError\u001b[0m                            Traceback (most recent call last)",
      "\u001b[1;32m<ipython-input-54-4e42f3158f3b>\u001b[0m in \u001b[0;36m<module>\u001b[1;34m\u001b[0m\n\u001b[1;32m----> 1\u001b[1;33m \u001b[0mc\u001b[0m\u001b[1;33m.\u001b[0m\u001b[0mdtype\u001b[0m \u001b[1;33m=\u001b[0m \u001b[0mtorch\u001b[0m\u001b[1;33m.\u001b[0m\u001b[0mfloat64\u001b[0m\u001b[1;33m\u001b[0m\u001b[1;33m\u001b[0m\u001b[0m\n\u001b[0m",
      "\u001b[1;31mAttributeError\u001b[0m: attribute 'dtype' of 'torch._C._TensorBase' objects is not writable"
     ]
    }
   ],
   "source": [
    "c.dtype = torch.float64"
   ]
  },
  {
   "cell_type": "code",
   "execution_count": 55,
   "metadata": {},
   "outputs": [],
   "source": [
    "c = c.type(torch.LongTensor)"
   ]
  },
  {
   "cell_type": "code",
   "execution_count": 56,
   "metadata": {},
   "outputs": [
    {
     "data": {
      "text/plain": [
       "tensor([[1, 1],\n",
       "        [0, 0],\n",
       "        [1, 0],\n",
       "        [1, 0],\n",
       "        [1, 1],\n",
       "        [0, 1],\n",
       "        [1, 0],\n",
       "        [1, 1],\n",
       "        [0, 0],\n",
       "        [0, 1],\n",
       "        [1, 0],\n",
       "        [1, 0],\n",
       "        [1, 0],\n",
       "        [0, 1],\n",
       "        [0, 1],\n",
       "        [0, 0],\n",
       "        [1, 1],\n",
       "        [0, 0],\n",
       "        [1, 1],\n",
       "        [0, 1],\n",
       "        [1, 1],\n",
       "        [0, 1],\n",
       "        [1, 1],\n",
       "        [1, 0],\n",
       "        [1, 0],\n",
       "        [0, 1],\n",
       "        [0, 1],\n",
       "        [1, 0],\n",
       "        [0, 1],\n",
       "        [1, 1],\n",
       "        [1, 0],\n",
       "        [0, 0],\n",
       "        [0, 1],\n",
       "        [0, 1],\n",
       "        [1, 0],\n",
       "        [0, 1],\n",
       "        [1, 1],\n",
       "        [0, 0],\n",
       "        [0, 1],\n",
       "        [1, 0],\n",
       "        [0, 1],\n",
       "        [1, 0],\n",
       "        [1, 0],\n",
       "        [0, 1],\n",
       "        [1, 0],\n",
       "        [0, 0],\n",
       "        [1, 1],\n",
       "        [1, 0],\n",
       "        [1, 1],\n",
       "        [0, 1],\n",
       "        [1, 1],\n",
       "        [0, 0],\n",
       "        [0, 1],\n",
       "        [1, 1],\n",
       "        [1, 1],\n",
       "        [0, 1],\n",
       "        [0, 0],\n",
       "        [1, 1],\n",
       "        [1, 0],\n",
       "        [0, 0],\n",
       "        [0, 0],\n",
       "        [1, 0],\n",
       "        [0, 0],\n",
       "        [0, 0],\n",
       "        [1, 1],\n",
       "        [1, 1],\n",
       "        [1, 1],\n",
       "        [1, 0],\n",
       "        [0, 0],\n",
       "        [1, 0],\n",
       "        [1, 1],\n",
       "        [0, 0],\n",
       "        [1, 1],\n",
       "        [0, 0],\n",
       "        [0, 1],\n",
       "        [1, 0],\n",
       "        [1, 1],\n",
       "        [0, 0],\n",
       "        [0, 0],\n",
       "        [1, 0],\n",
       "        [1, 0],\n",
       "        [0, 0],\n",
       "        [1, 1],\n",
       "        [1, 1],\n",
       "        [0, 0],\n",
       "        [0, 1],\n",
       "        [0, 1],\n",
       "        [0, 1],\n",
       "        [0, 1],\n",
       "        [0, 1],\n",
       "        [0, 1],\n",
       "        [0, 0],\n",
       "        [1, 0],\n",
       "        [1, 1],\n",
       "        [1, 1],\n",
       "        [0, 1],\n",
       "        [0, 0],\n",
       "        [1, 0],\n",
       "        [1, 0],\n",
       "        [0, 0],\n",
       "        [0, 1],\n",
       "        [0, 0],\n",
       "        [1, 1],\n",
       "        [0, 0],\n",
       "        [1, 1],\n",
       "        [1, 0],\n",
       "        [0, 0],\n",
       "        [1, 0],\n",
       "        [1, 1],\n",
       "        [1, 1],\n",
       "        [1, 1],\n",
       "        [1, 1],\n",
       "        [0, 1],\n",
       "        [1, 1],\n",
       "        [0, 0],\n",
       "        [1, 1],\n",
       "        [1, 1],\n",
       "        [0, 1],\n",
       "        [1, 1],\n",
       "        [0, 0],\n",
       "        [0, 0],\n",
       "        [1, 1],\n",
       "        [1, 1],\n",
       "        [0, 0],\n",
       "        [1, 1],\n",
       "        [1, 0],\n",
       "        [1, 1],\n",
       "        [1, 0],\n",
       "        [1, 0],\n",
       "        [1, 1],\n",
       "        [0, 0],\n",
       "        [0, 0],\n",
       "        [1, 1],\n",
       "        [1, 1],\n",
       "        [1, 1],\n",
       "        [1, 0],\n",
       "        [1, 0],\n",
       "        [0, 0],\n",
       "        [0, 0],\n",
       "        [1, 0],\n",
       "        [0, 0],\n",
       "        [0, 0],\n",
       "        [0, 0],\n",
       "        [1, 1],\n",
       "        [1, 1],\n",
       "        [1, 1],\n",
       "        [1, 0],\n",
       "        [0, 1],\n",
       "        [0, 1],\n",
       "        [1, 0],\n",
       "        [1, 1],\n",
       "        [1, 1],\n",
       "        [0, 1],\n",
       "        [0, 1],\n",
       "        [1, 1],\n",
       "        [1, 1],\n",
       "        [0, 0],\n",
       "        [0, 0],\n",
       "        [0, 0],\n",
       "        [0, 0],\n",
       "        [1, 0],\n",
       "        [1, 0],\n",
       "        [0, 0],\n",
       "        [0, 1],\n",
       "        [0, 1],\n",
       "        [0, 0],\n",
       "        [0, 1],\n",
       "        [0, 1],\n",
       "        [0, 1],\n",
       "        [1, 1],\n",
       "        [1, 0],\n",
       "        [1, 1],\n",
       "        [1, 1],\n",
       "        [1, 0],\n",
       "        [1, 1],\n",
       "        [0, 0],\n",
       "        [0, 1],\n",
       "        [0, 0],\n",
       "        [0, 1],\n",
       "        [1, 1],\n",
       "        [1, 1],\n",
       "        [0, 1],\n",
       "        [0, 0],\n",
       "        [0, 1],\n",
       "        [1, 1],\n",
       "        [0, 0],\n",
       "        [0, 0],\n",
       "        [1, 1],\n",
       "        [0, 1]])"
      ]
     },
     "execution_count": 56,
     "metadata": {},
     "output_type": "execute_result"
    }
   ],
   "source": [
    "c"
   ]
  },
  {
   "cell_type": "code",
   "execution_count": 13,
   "metadata": {},
   "outputs": [
    {
     "name": "stdout",
     "output_type": "stream",
     "text": [
      "torch.float32 torch.float64\n"
     ]
    }
   ],
   "source": [
    "a = torch.rand(1000)\n",
    "b = torch.rand(1000, dtype = torch.float64)\n",
    "print(a.dtype, b.dtype)"
   ]
  },
  {
   "cell_type": "code",
   "execution_count": 11,
   "metadata": {},
   "outputs": [],
   "source": [
    "b = b.type(torch.DoubleTensor)"
   ]
  },
  {
   "cell_type": "code",
   "execution_count": 12,
   "metadata": {},
   "outputs": [
    {
     "name": "stdout",
     "output_type": "stream",
     "text": [
      "tensor(1.9745, dtype=torch.float64)\n"
     ]
    }
   ],
   "source": [
    "print(torch.max(a+b))"
   ]
  },
  {
   "cell_type": "code",
   "execution_count": 25,
   "metadata": {},
   "outputs": [
    {
     "name": "stdout",
     "output_type": "stream",
     "text": [
      "tensor(2.8119e+275, dtype=torch.float64)\n",
      "tensor(nan, dtype=torch.float64)\n",
      "tensor(nan, dtype=torch.float64)\n",
      "tensor(2.8119e+275, dtype=torch.float64)\n",
      "tensor(9.2142e+269, dtype=torch.float64)\n",
      "tensor(9.2142e+269, dtype=torch.float64)\n",
      "tensor(nan, dtype=torch.float64)\n",
      "tensor(nan, dtype=torch.float64)\n",
      "tensor(2.2446e+271, dtype=torch.float64)\n",
      "tensor(2.8119e+275, dtype=torch.float64)\n",
      "tensor(2.8119e+275, dtype=torch.float64)\n",
      "tensor(nan, dtype=torch.float64)\n",
      "tensor(2.8119e+275, dtype=torch.float64)\n",
      "tensor(9.2142e+269, dtype=torch.float64)\n",
      "tensor(nan, dtype=torch.float64)\n",
      "tensor(2.8119e+275, dtype=torch.float64)\n",
      "tensor(9.2142e+269, dtype=torch.float64)\n",
      "tensor(2.8119e+275, dtype=torch.float64)\n",
      "tensor(9.2142e+269, dtype=torch.float64)\n",
      "tensor(6.8157e+271, dtype=torch.float64)\n",
      "tensor(nan, dtype=torch.float64)\n",
      "tensor(9.2142e+269, dtype=torch.float64)\n",
      "tensor(2.8119e+275, dtype=torch.float64)\n",
      "tensor(9.2142e+269, dtype=torch.float64)\n",
      "tensor(6.8157e+271, dtype=torch.float64)\n",
      "tensor(nan, dtype=torch.float64)\n",
      "tensor(9.2142e+269, dtype=torch.float64)\n",
      "tensor(nan, dtype=torch.float64)\n",
      "tensor(9.2142e+269, dtype=torch.float64)\n",
      "tensor(nan, dtype=torch.float64)\n",
      "tensor(2.2446e+271, dtype=torch.float64)\n",
      "tensor(9.2142e+269, dtype=torch.float64)\n",
      "tensor(2.2446e+271, dtype=torch.float64)\n",
      "tensor(2.8119e+275, dtype=torch.float64)\n",
      "tensor(2.8119e+275, dtype=torch.float64)\n",
      "tensor(nan, dtype=torch.float64)\n",
      "tensor(nan, dtype=torch.float64)\n",
      "tensor(nan, dtype=torch.float64)\n",
      "tensor(nan, dtype=torch.float64)\n",
      "tensor(9.2142e+269, dtype=torch.float64)\n",
      "tensor(nan, dtype=torch.float64)\n",
      "tensor(2.2446e+271, dtype=torch.float64)\n",
      "tensor(2.8119e+275, dtype=torch.float64)\n",
      "tensor(nan, dtype=torch.float64)\n",
      "tensor(nan, dtype=torch.float64)\n",
      "tensor(9.2142e+269, dtype=torch.float64)\n",
      "tensor(9.2142e+269, dtype=torch.float64)\n",
      "tensor(nan, dtype=torch.float64)\n",
      "tensor(9.2142e+269, dtype=torch.float64)\n",
      "tensor(9.2142e+269, dtype=torch.float64)\n",
      "tensor(9.2142e+269, dtype=torch.float64)\n",
      "tensor(nan, dtype=torch.float64)\n",
      "tensor(9.2142e+269, dtype=torch.float64)\n",
      "tensor(2.8119e+275, dtype=torch.float64)\n",
      "tensor(9.2142e+269, dtype=torch.float64)\n",
      "tensor(9.2142e+269, dtype=torch.float64)\n",
      "tensor(9.2142e+269, dtype=torch.float64)\n",
      "tensor(9.2142e+269, dtype=torch.float64)\n",
      "tensor(9.2142e+269, dtype=torch.float64)\n",
      "tensor(9.2142e+269, dtype=torch.float64)\n",
      "tensor(9.2142e+269, dtype=torch.float64)\n",
      "tensor(2.8119e+275, dtype=torch.float64)\n",
      "tensor(nan, dtype=torch.float64)\n",
      "tensor(nan, dtype=torch.float64)\n",
      "tensor(9.2142e+269, dtype=torch.float64)\n",
      "tensor(nan, dtype=torch.float64)\n",
      "tensor(9.2142e+269, dtype=torch.float64)\n",
      "tensor(nan, dtype=torch.float64)\n",
      "tensor(9.2142e+269, dtype=torch.float64)\n",
      "tensor(nan, dtype=torch.float64)\n",
      "tensor(2.8119e+275, dtype=torch.float64)\n",
      "tensor(nan, dtype=torch.float64)\n",
      "tensor(9.2142e+269, dtype=torch.float64)\n",
      "tensor(9.2142e+269, dtype=torch.float64)\n",
      "tensor(9.2142e+269, dtype=torch.float64)\n",
      "tensor(9.2142e+269, dtype=torch.float64)\n",
      "tensor(9.2142e+269, dtype=torch.float64)\n",
      "tensor(9.2142e+269, dtype=torch.float64)\n",
      "tensor(2.8119e+275, dtype=torch.float64)\n",
      "tensor(2.2446e+271, dtype=torch.float64)\n",
      "tensor(2.2446e+271, dtype=torch.float64)\n",
      "tensor(2.2446e+271, dtype=torch.float64)\n",
      "tensor(nan, dtype=torch.float64)\n",
      "tensor(nan, dtype=torch.float64)\n",
      "tensor(2.2446e+271, dtype=torch.float64)\n",
      "tensor(2.2446e+271, dtype=torch.float64)\n",
      "tensor(9.2142e+269, dtype=torch.float64)\n",
      "tensor(nan, dtype=torch.float64)\n",
      "tensor(2.8119e+275, dtype=torch.float64)\n",
      "tensor(nan, dtype=torch.float64)\n",
      "tensor(2.8119e+275, dtype=torch.float64)\n",
      "tensor(nan, dtype=torch.float64)\n",
      "tensor(2.2446e+271, dtype=torch.float64)\n",
      "tensor(2.2446e+271, dtype=torch.float64)\n",
      "tensor(nan, dtype=torch.float64)\n",
      "tensor(nan, dtype=torch.float64)\n",
      "tensor(9.2142e+269, dtype=torch.float64)\n",
      "tensor(2.8119e+275, dtype=torch.float64)\n",
      "tensor(2.8119e+275, dtype=torch.float64)\n",
      "tensor(9.2142e+269, dtype=torch.float64)\n"
     ]
    }
   ],
   "source": [
    "for i in range(100):\n",
    "    a = torch.rand((189,4))\n",
    "    b = torch.rand((189,4), dtype=torch.float64)\n",
    "    print(torch.max(a[:,:2]+b[:,:2]))"
   ]
  },
  {
   "cell_type": "code",
   "execution_count": 26,
   "metadata": {},
   "outputs": [
    {
     "name": "stdout",
     "output_type": "stream",
     "text": [
      "1.3.0\n"
     ]
    }
   ],
   "source": [
    "print(torch.__version__)"
   ]
  },
  {
   "cell_type": "code",
   "execution_count": 29,
   "metadata": {},
   "outputs": [
    {
     "name": "stdout",
     "output_type": "stream",
     "text": [
      "torch.float32\n"
     ]
    }
   ],
   "source": [
    "import numpy as np\n",
    "a = np.array([1.2,2])\n",
    "b = torch.from_numpy(a).float()\n",
    "print(b.dtype)"
   ]
  },
  {
   "cell_type": "code",
   "execution_count": 9,
   "metadata": {},
   "outputs": [],
   "source": [
    "import torch\n",
    "from architectures.backbones.MobileNet import ConvBNReLU, InvertedResidual, mobilenet_v2\n",
    "backbone = mobilenet_v2(width_mult=0.2)"
   ]
  },
  {
   "cell_type": "code",
   "execution_count": 10,
   "metadata": {},
   "outputs": [],
   "source": [
    "a = torch.rand(2,3,320,320)"
   ]
  },
  {
   "cell_type": "code",
   "execution_count": 11,
   "metadata": {},
   "outputs": [],
   "source": [
    "inter, out = backbone(a)"
   ]
  },
  {
   "cell_type": "code",
   "execution_count": 12,
   "metadata": {},
   "outputs": [
    {
     "data": {
      "text/plain": [
       "torch.Size([2, 288, 20, 20])"
      ]
     },
     "execution_count": 12,
     "metadata": {},
     "output_type": "execute_result"
    }
   ],
   "source": [
    "inter.shape"
   ]
  },
  {
   "cell_type": "code",
   "execution_count": 13,
   "metadata": {},
   "outputs": [
    {
     "data": {
      "text/plain": [
       "torch.Size([2, 1280, 10, 10])"
      ]
     },
     "execution_count": 13,
     "metadata": {},
     "output_type": "execute_result"
    }
   ],
   "source": [
    "out.shape"
   ]
  },
  {
   "cell_type": "code",
   "execution_count": null,
   "metadata": {},
   "outputs": [],
   "source": []
  }
 ],
 "metadata": {
  "kernelspec": {
   "display_name": "Python 3",
   "language": "python",
   "name": "python3"
  },
  "language_info": {
   "codemirror_mode": {
    "name": "ipython",
    "version": 3
   },
   "file_extension": ".py",
   "mimetype": "text/x-python",
   "name": "python",
   "nbconvert_exporter": "python",
   "pygments_lexer": "ipython3",
   "version": "3.7.4"
  }
 },
 "nbformat": 4,
 "nbformat_minor": 2
}
